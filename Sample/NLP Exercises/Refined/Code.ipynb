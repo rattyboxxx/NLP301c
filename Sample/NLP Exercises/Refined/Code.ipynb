{
 "cells": [
  {
   "cell_type": "markdown",
   "metadata": {},
   "source": [
    "#### 1. Import nltk and download the ‘stopwords’ and ‘punkt’ packages\n",
    "Difficulty Level : L1\n",
    "\n",
    "Q. Import nltk and necessary packages"
   ]
  },
  {
   "cell_type": "code",
   "execution_count": null,
   "metadata": {},
   "outputs": [],
   "source": [
    "import nltk\n",
    "nltk.download('punkt')\n",
    "nltk.download('stop')\n",
    "nltk.download('stopwords')"
   ]
  },
  {
   "cell_type": "markdown",
   "metadata": {},
   "source": [
    "#### 2. Import spacy and load the language model\n",
    "Difficulty Level : L1\n",
    "\n",
    "Q. Import spacy library and load ‘en_core_web_sm’ model for english language. Load ‘xx_ent_wiki_sm’ for multi language support."
   ]
  },
  {
   "cell_type": "code",
   "execution_count": null,
   "metadata": {},
   "outputs": [],
   "source": [
    "import spacy\n",
    "nlp = spacy.load(\"en_core_web_sm\")\n",
    "nlp"
   ]
  },
  {
   "cell_type": "markdown",
   "metadata": {},
   "source": [
    "#### 3. How to tokenize a given text?\n",
    "Difficulty Level : L1\n",
    "\n",
    "Q. Print the tokens of the given text document"
   ]
  },
  {
   "cell_type": "code",
   "execution_count": null,
   "metadata": {},
   "outputs": [],
   "source": [
    "text=\"Last week, the University of Cambridge shared its own research that shows if everyone wears a mask outside home,dreaded ‘second wave’ of the pandemic can be avoided.\""
   ]
  },
  {
   "cell_type": "markdown",
   "metadata": {},
   "source": [
    "Desired Output :\n",
    "```\n",
    "Last\n",
    "week\n",
    ",\n",
    "the\n",
    "University\n",
    "of\n",
    "Cambridge\n",
    "shared\n",
    "...(truncated)...\n",
    "```"
   ]
  },
  {
   "cell_type": "code",
   "execution_count": null,
   "metadata": {},
   "outputs": [],
   "source": [
    "# Method 1\n",
    "# Tokeniation with nltk\n",
    "import nltk\n",
    "tokens=nltk.word_tokenize(text)\n",
    "for token in tokens:\n",
    "  print(token)"
   ]
  },
  {
   "cell_type": "code",
   "execution_count": null,
   "metadata": {},
   "outputs": [],
   "source": [
    "# Method 2\n",
    "# Tokenization with spaCy\n",
    "import spacy\n",
    "nlp=spacy.load(\"en_core_web_sm\")\n",
    "doc=nlp(text)\n",
    "for token in doc:\n",
    "  print(token.text)"
   ]
  },
  {
   "cell_type": "markdown",
   "metadata": {},
   "source": [
    "#### 4. How to get the sentences of a text document?\n",
    "Difficulty Level : L1\n",
    "\n",
    "Q. Print the sentences of the given text document"
   ]
  },
  {
   "cell_type": "code",
   "execution_count": null,
   "metadata": {},
   "outputs": [],
   "source": [
    "text=\"\"\"The outbreak of coronavirus disease 2019 (COVID-19) has created a global health crisis that has had a deep impact on the way we perceive our world and our everyday lives. Not only the rate of contagion and patterns of transmission threatens our sense of agency, but the safety measures put in place to contain the spread of the virus also require social distancing by refraining from doing what is inherently human, which is to find solace in the company of others. Within this context of physical threat, social and physical distancing, as well as public alarm, what has been (and can be) the role of the different mass media channels in our lives on individual, social and societal levels? Mass media have long been recognized as powerful forces shaping how we experience the world and ourselves. This recognition is accompanied by a growing volume of research, that closely follows the footsteps of technological transformations (e.g. radio, movies, television, the internet, mobiles) and the zeitgeist (e.g. cold war, 9/11, climate change) in an attempt to map mass media major impacts on how we perceive ourselves, both as individuals and citizens. Are media (broadcast and digital) still able to convey a sense of unity reaching large audiences, or are messages lost in the noisy crowd of mass self-communication? \"\"\""
   ]
  },
  {
   "cell_type": "markdown",
   "metadata": {},
   "source": [
    "Desired Output :\n",
    "```\n",
    "The outbreak of coronavirus disease 2019 (COVID-19) has created a global health crisis that has had a deep impact on the way we perceive our world and our everyday lives.\n",
    "Not only the rate of contagion and patterns of transmission threatens our sense of agency, but the safety measures put in place to contain the spread of the virus also require social distancing by refraining from doing what is inherently human, which is to find solace in the company of others.\n",
    "Within this context of physical threat, social and physical distancing, as well as public alarm, what has been (and can be)\n",
    "...(truncated)...\n",
    "```"
   ]
  },
  {
   "cell_type": "code",
   "execution_count": null,
   "metadata": {},
   "outputs": [],
   "source": [
    "# Tokenizing the text into sentences with spaCy\n",
    "import spacy\n",
    "nlp=spacy.load(\"en_core_web_sm\")\n",
    "doc=nlp(text)\n",
    "for sentence in doc.sents:\n",
    "  print(sentence)"
   ]
  },
  {
   "cell_type": "code",
   "execution_count": null,
   "metadata": {},
   "outputs": [],
   "source": [
    "# Extracting sentences with nltk\n",
    "nltk.sent_tokenize(text)"
   ]
  },
  {
   "cell_type": "markdown",
   "metadata": {},
   "source": [
    "#### 5. How to tokenize a text using the `transformers` package?\n",
    "Difficulty Level : L1\n",
    "\n",
    "Q. Tokenize the given text in encoded form using the tokenizer of Huggingface’s transformer package."
   ]
  },
  {
   "cell_type": "code",
   "execution_count": null,
   "metadata": {},
   "outputs": [],
   "source": [
    "text=\"I love spring season. I go hiking with my friends\""
   ]
  },
  {
   "cell_type": "markdown",
   "metadata": {},
   "source": [
    "Desired Output :\n",
    "```\n",
    "[101, 1045, 2293, 3500, 2161, 1012, 1045, 2175, 13039, 2007, 2026, 2814, 102]\n",
    "[CLS] i love spring season. i go hiking with my friends [SEP]\n",
    "```"
   ]
  },
  {
   "cell_type": "code",
   "execution_count": null,
   "metadata": {},
   "outputs": [],
   "source": [
    "# Import tokenizer from transfromers\n",
    "from transformers import AutoTokenizer\n",
    "import warnings\n",
    "warnings.filterwarnings(\"ignore\", category=DeprecationWarning) \n",
    "\n",
    "# Initialize the tokenizer\n",
    "tokenizer=AutoTokenizer.from_pretrained('bert-base-uncased')\n",
    "\n",
    "# Encoding with the tokenizer\n",
    "inputs=tokenizer.encode(text)\n",
    "print(inputs)\n",
    "print(tokenizer.decode(inputs))"
   ]
  },
  {
   "cell_type": "markdown",
   "metadata": {},
   "source": [
    "#### 6. How to tokenize text with stopwords as delimiters?\n",
    "Difficulty Level : L2\n",
    "\n",
    "Q. Tokenize the given text with stop words (“is”,”the”,”was”) as delimiters. Tokenizing this way identifies meaningful phrases. Sometimes, useful for topic modeling"
   ]
  },
  {
   "cell_type": "code",
   "execution_count": null,
   "metadata": {},
   "outputs": [],
   "source": [
    "text = \"Walter was feeling anxious. He was diagnosed today. He probably is the best person I know.\""
   ]
  },
  {
   "cell_type": "markdown",
   "metadata": {},
   "source": [
    "Expected Output :\n",
    "```\n",
    "['Walter',\n",
    " 'feeling anxious',\n",
    " 'He',\n",
    " 'diagnosed today',\n",
    " 'He probably',\n",
    " 'best person I know']\n",
    "```\n"
   ]
  },
  {
   "cell_type": "code",
   "execution_count": null,
   "metadata": {},
   "outputs": [],
   "source": [
    "# Solution\n",
    "text = \"Walter was feeling anxious. He was diagnosed today. He probably is the best person I know.\"\n",
    "\n",
    "stop_words_and_delims = ['was', 'is', 'the', '.', ',', '-', '!', '?']\n",
    "for r in stop_words_and_delims:\n",
    "    text = text.replace(r, 'DELIM')\n",
    "\n",
    "words = [t.strip() for t in text.split('DELIM')]\n",
    "words_filtered = list(filter(lambda a: a not in [''], words))\n",
    "words_filtered"
   ]
  },
  {
   "cell_type": "markdown",
   "metadata": {},
   "source": [
    "##### 7. How to remove stop words in a text ?\n",
    "Difficulty Level : L1\n",
    "\n",
    "Q. Remove all the stopwords ( ‘a’ , ‘the’, ‘was’…) from the text"
   ]
  },
  {
   "cell_type": "code",
   "execution_count": null,
   "metadata": {},
   "outputs": [],
   "source": [
    "text=\"\"\"the outbreak of coronavirus disease 2019 (COVID-19) has created a global health crisis that has had a deep impact on the way we perceive our world and our everyday lives. Not only the rate of contagion and patterns of transmission threatens our sense of agency, but the safety measures put in place to contain the spread of the virus also require social distancing by refraining from doing what is inherently human, which is to find solace in the company of others. Within this context of physical threat, social and physical distancing, as well as public alarm, what has been (and can be) the role of the different mass media channels in our lives on individual, social and societal levels? Mass media have long been recognized as powerful forces shaping how we experience the world and ourselves. This recognition is accompanied by a growing volume of research, that closely follows the footsteps of technological transformations (e.g. radio, movies, television, the internet, mobiles) and the zeitgeist (e.g. cold war, 9/11, climate change) in an attempt to map mass media major impacts on how we perceive ourselves, both as individuals and citizens. Are media (broadcast and digital) still able to convey a sense of unity reaching large audiences, or are messages lost in the noisy crowd of mass self-communication?\"\"\""
   ]
  },
  {
   "cell_type": "markdown",
   "metadata": {},
   "source": [
    "Desired Output :\n",
    "```\n",
    "'outbreak coronavirus disease 2019 ( COVID-19 ) created global health crisis deep impact way perceive world everyday lives . rate contagion patterns transmission threatens sense agency , safety measures place contain spread virus require social distancing refraining inherently human , find solace company . context physical threat , social physical distancing , public alarm , ( ) role different mass media channels lives individual , social societal levels ? Mass media long recognized powerful forces shaping experience world . recognition accompanied growing volume research , closely follows footsteps technological transformations ( e.g. radio , movies , television , internet , mobiles ) zeitgeist ( e.g. cold war , 9/11 , climate change ) attempt map mass media major impacts perceive , individuals citizens . media ( broadcast digital ) able convey sense unity reaching large audiences , messages lost noisy crowd mass self - communication ?'\n",
    "```"
   ]
  },
  {
   "cell_type": "code",
   "execution_count": null,
   "metadata": {},
   "outputs": [],
   "source": [
    "# Method 1\n",
    "# Removing stopwords in nltk\n",
    "\n",
    "import nltk\n",
    "from nltk.corpus import stopwords\n",
    "my_stopwords=set(stopwords.words('english'))\n",
    "new_tokens=[]\n",
    "\n",
    "# Tokenization using word_tokenize()\n",
    "all_tokens=nltk.word_tokenize(text)\n",
    "\n",
    "for token in all_tokens:\n",
    "  if token not in my_stopwords:\n",
    "    new_tokens.append(token)\n",
    "\n",
    "\n",
    "\" \".join(new_tokens)"
   ]
  },
  {
   "cell_type": "code",
   "execution_count": null,
   "metadata": {},
   "outputs": [],
   "source": [
    "# Method 2\n",
    "# Removing stopwords in spaCy\n",
    "\n",
    "import spacy\n",
    "nlp = spacy.load(\"en_core_web_sm\")\n",
    "doc=nlp(text)\n",
    "new_tokens=[]\n",
    "\n",
    "# Using is_stop attribute of each token to check if it's a stopword\n",
    "for token in doc:\n",
    "  if token.is_stop==False:\n",
    "    new_tokens.append(token.text)\n",
    "\n",
    "\" \".join(new_tokens)"
   ]
  },
  {
   "cell_type": "markdown",
   "metadata": {},
   "source": [
    "#### 8. How to add custom stop words in spaCy ?\n",
    "Difficulty Level : L1\n",
    "\n",
    "Q. Add the custom stopwords “NIL” and “JUNK” in spaCy and remove the stopwords in below text"
   ]
  },
  {
   "cell_type": "code",
   "execution_count": null,
   "metadata": {},
   "outputs": [],
   "source": [
    "text=\" Jonas was a JUNK great guy NIL Adam was evil NIL Martha JUNK was more of a fool \""
   ]
  },
  {
   "cell_type": "markdown",
   "metadata": {},
   "source": [
    "Expected Output :\n",
    "```\n",
    "'Jonas great guy Adam evil Martha fool'\n",
    "```"
   ]
  },
  {
   "cell_type": "code",
   "execution_count": null,
   "metadata": {},
   "outputs": [],
   "source": [
    "import spacy\n",
    "nlp = spacy.load(\"en_core_web_sm\")\n",
    "\n",
    "# list of custom stop words\n",
    "customize_stop_words = ['NIL','JUNK']\n",
    "\n",
    "# Adding these stop words\n",
    "for w in customize_stop_words:\n",
    "    nlp.vocab[w].is_stop = True\n",
    "doc = nlp(text.strip())\n",
    "tokens = [token.text for token in doc if not token.is_stop]\n",
    "\n",
    "\" \".join(tokens)"
   ]
  },
  {
   "cell_type": "markdown",
   "metadata": {},
   "source": [
    "#### 9. How to remove punctuations ?\n",
    "Difficulty Level : L1\n",
    "\n",
    "Q. Remove all the punctuations in the given text"
   ]
  },
  {
   "cell_type": "code",
   "execution_count": null,
   "metadata": {},
   "outputs": [],
   "source": [
    "text=\"The match has concluded !!! India has won the match . Will we fin the finals too ? !\""
   ]
  },
  {
   "cell_type": "markdown",
   "metadata": {},
   "source": [
    "Desired Output :\n",
    "```\n",
    "'The match has concluded India has won the match Will we fin the finals too'\n",
    "```"
   ]
  },
  {
   "cell_type": "code",
   "execution_count": null,
   "metadata": {},
   "outputs": [],
   "source": [
    "# Method 1\n",
    "# Removing punctuations in spaCy\n",
    "import spacy\n",
    "nlp = spacy.load(\"en_core_web_sm\")\n",
    "\n",
    "doc=nlp(text)\n",
    "new_tokens=[]\n",
    "# Check if a token is a punctuation through is_punct attribute\n",
    "for token in doc:\n",
    "  if token.is_punct==False:\n",
    "    new_tokens.append(token.text)\n",
    "\n",
    "\" \".join(new_tokens)"
   ]
  },
  {
   "cell_type": "code",
   "execution_count": null,
   "metadata": {},
   "outputs": [],
   "source": [
    "# Method 2\n",
    "# Removing punctuation in nltk with RegexpTokenizer\n",
    "import nltk\n",
    "tokenizer=nltk.RegexpTokenizer(r\"\\w+\")\n",
    "\n",
    "tokens=tokenizer.tokenize(text)\n",
    "\" \".join(tokens)"
   ]
  },
  {
   "cell_type": "markdown",
   "metadata": {},
   "source": [
    "#### 10. How to perform stemming\n",
    "Difficulty Level : L2\n",
    "\n",
    "Q. Perform stemming/ convert each token to it’s root form in the given text"
   ]
  },
  {
   "cell_type": "code",
   "execution_count": null,
   "metadata": {},
   "outputs": [],
   "source": [
    "text= \"Dancing is an art. Students should be taught dance as a subject in schools . I danced in many of my school function. Some people are always hesitating to dance.\""
   ]
  },
  {
   "cell_type": "markdown",
   "metadata": {},
   "source": [
    "Desired Output:\n",
    "```\n",
    "'danc is an art . student should be taught danc as a subject in school . I danc in mani of my school function . some peopl are alway hesit to danc .'\n",
    "```"
   ]
  },
  {
   "cell_type": "code",
   "execution_count": null,
   "metadata": {},
   "outputs": [],
   "source": [
    "# Stemming with nltk's PorterStemmer\n",
    "import nltk\n",
    "from nltk.stem import PorterStemmer\n",
    "\n",
    "stemmer=PorterStemmer()\n",
    "stemmed_tokens=[]\n",
    "for token in nltk.word_tokenize(text):\n",
    "  stemmed_tokens.append(stemmer.stem(token))\n",
    "\n",
    "\" \".join(stemmed_tokens)"
   ]
  },
  {
   "cell_type": "markdown",
   "metadata": {},
   "source": [
    "#### 11. How to lemmatize a given text ?\n",
    "Difficulty Level : L2\n",
    "\n",
    "Q. Perform lemmatzation on the given text\n",
    "\n",
    "\n",
    "Hint: Lemmatization Approaches"
   ]
  },
  {
   "cell_type": "code",
   "execution_count": null,
   "metadata": {},
   "outputs": [],
   "source": [
    "text= \"Dancing is an art. Students should be taught dance as a subject in schools . I danced in many of my school function. Some people are always hesitating to dance.\""
   ]
  },
  {
   "cell_type": "markdown",
   "metadata": {},
   "source": [
    "Desired Output:\n",
    "```\n",
    "'dancing be an art . student should be teach dance as a subject in school . -PRON- dance in many of -PRON- school function . some people be always hesitate to dance .'\n",
    "```"
   ]
  },
  {
   "cell_type": "code",
   "execution_count": null,
   "metadata": {},
   "outputs": [],
   "source": [
    "# Lemmatization using spacy's lemma_ attribute of token\n",
    "import spacy\n",
    "nlp=spacy.load(\"en_core_web_sm\")\n",
    "doc=nlp(text)\n",
    "\n",
    "lemmatized=[token.lemma_ for token in doc]\n",
    "\" \".join(lemmatized)"
   ]
  },
  {
   "cell_type": "markdown",
   "metadata": {},
   "source": [
    "#### 12. How to extract usernames from emails ?\n",
    "Difficulty Level : L2\n",
    "\n",
    "Q. Extract the usernames from the email addresses present in the text"
   ]
  },
  {
   "cell_type": "code",
   "execution_count": null,
   "metadata": {},
   "outputs": [],
   "source": [
    "text= \"The new registrations are potter709@gmail.com , elixir101@gmail.com. If you find any disruptions, kindly contact granger111@gamil.com or severus77@gamil.com \""
   ]
  },
  {
   "cell_type": "markdown",
   "metadata": {},
   "source": [
    "Desired Output :\n",
    "```\n",
    "['potter709', 'elixir101', 'granger111', 'severus77']\n",
    "```"
   ]
  },
  {
   "cell_type": "code",
   "execution_count": null,
   "metadata": {},
   "outputs": [],
   "source": [
    "# Using regular expression to extract usernames\n",
    "import re  \n",
    "\n",
    "# \\S matches any non-whitespace character \n",
    "# @ for as in the Email \n",
    "# + for Repeats a character one or more times \n",
    "usernames= re.findall('(\\S+)@', text)     \n",
    "print(usernames) "
   ]
  },
  {
   "cell_type": "markdown",
   "metadata": {},
   "source": [
    "#### 13. How to find the most common words in the text excluding stopwords\n",
    "Difficulty Level : L2\n",
    "\n",
    "Q. Extract the top 10 most common words in the given text excluding stopwords."
   ]
  },
  {
   "cell_type": "code",
   "execution_count": null,
   "metadata": {},
   "outputs": [],
   "source": [
    "text=\"\"\"Junkfood - Food that do no good to our body. And there's no need of them in our body but still we willingly eat them because they are great in taste and easy to cook or ready to eat. Junk foods have no or very less nutritional value and irrespective of the way they are marketed, they are not healthy to consume.The only reason of their gaining popularity and increased trend of consumption is \n",
    "that they are ready to eat or easy to cook foods. People, of all age groups are moving towards Junkfood as it is hassle free and often ready to grab and eat. Cold drinks, chips, noodles, pizza, burgers, French fries etc. are few examples from the great variety of junk food available in the market.\n",
    " Junkfood is the most dangerous food ever but it is pleasure in eating and it gives a great taste in mouth examples of Junkfood are kurkure and chips.. cold rings are also source of junk food... they shud nt be ate in high amounts as it results fatal to our body... it cn be eated in a limited extend ... in research its found tht ths junk foods r very dangerous fr our health\n",
    "Junkfood is very harmful that is slowly eating away the health of the present generation. The term itself denotes how dangerous it is for our bodies. Most importantly, it tastes so good that people consume it on a daily basis. However, not much awareness is spread about the harmful effects of Junkfood .\n",
    "The problem is more serious than you think. Various studies show that Junkfood impacts our health negatively. They contain higher levels of calories, fats, and sugar. On the contrary, they have very low amounts of healthy nutrients and lack dietary fibers. Parents must discourage their children from consuming junk food because of the ill effects it has on one’s health.\n",
    "Junkfood is the easiest way to gain unhealthy weight. The amount of fats and sugar in the food makes you gain weight rapidly. However, this is not a healthy weight. It is more of fats and cholesterol which will have a harmful impact on your health. Junk food is also one of the main reasons for the increase in obesity nowadays.\n",
    "This food only looks and tastes good, other than that, it has no positive points. The amount of calorie your body requires to stay fit is not fulfilled by this food. For instance, foods like French fries, burgers, candy, and cookies, all have high amounts of sugar and fats. Therefore, this can result in long-term illnesses like diabetes and high blood pressure. This may also result in kidney failure.\"\"\""
   ]
  },
  {
   "cell_type": "markdown",
   "metadata": {},
   "source": [
    "Desired Output:\n",
    "```\n",
    "text= {Junkfood: 10,\n",
    " food: 8,\n",
    " good: 5,\n",
    " harmful : 3\n",
    " body: 1,\n",
    " need: 1,\n",
    "\n",
    " ...(truncated)\n",
    "```"
   ]
  },
  {
   "cell_type": "code",
   "execution_count": null,
   "metadata": {},
   "outputs": [],
   "source": [
    "# Creating spacy doc of the text\n",
    "\n",
    "import spacy\n",
    "nlp=spacy.load(\"en_core_web_sm\")\n",
    "doc=nlp(text)\n",
    "\n",
    "# Removal of stop words and punctuations\n",
    "words=[str(token).strip() for token in doc if token.is_stop==False and token.is_punct==False]\n",
    "\n",
    "freq_dict={}\n",
    "\n",
    "# Calculating frequency count\n",
    "for word in words:\n",
    "  if word not in freq_dict:\n",
    "    freq_dict[word]=1\n",
    "  else:\n",
    "    freq_dict[word]+=1\n",
    "\n",
    "print(freq_dict)"
   ]
  },
  {
   "cell_type": "markdown",
   "metadata": {},
   "source": [
    "#### 14. How to do spell correction in a given text ?\n",
    "Difficulty Level : L2\n",
    "\n",
    "Q. Correct the spelling errors in the following text"
   ]
  },
  {
   "cell_type": "code",
   "execution_count": null,
   "metadata": {},
   "outputs": [],
   "source": [
    "text=\"He is a gret person. He beleives in bod\""
   ]
  },
  {
   "cell_type": "markdown",
   "metadata": {},
   "source": [
    "Desired Output:\n",
    "```\n",
    "text=\"He is a great person. He believes in god\"\n",
    "```"
   ]
  },
  {
   "cell_type": "code",
   "execution_count": null,
   "metadata": {},
   "outputs": [],
   "source": [
    "# Import textblob\n",
    "from textblob import TextBlob\n",
    "import warnings\n",
    "warnings.filterwarnings(\"ignore\", category=DeprecationWarning) \n",
    "\n",
    "# Using textblob's correct() function\n",
    "text=TextBlob(text)\n",
    "print(text.correct())"
   ]
  },
  {
   "cell_type": "markdown",
   "metadata": {},
   "source": [
    "#### 15. How to tokenize tweets ?\n",
    "Difficulty Level : L2\n",
    "\n",
    "Q. Clean the following tweet and tokenize them"
   ]
  },
  {
   "cell_type": "code",
   "execution_count": null,
   "metadata": {},
   "outputs": [],
   "source": [
    "text=\" Having lots of fun #goa #vaction #summervacation. Fancy dinner @Beachbay restro :) \""
   ]
  },
  {
   "cell_type": "markdown",
   "metadata": {},
   "source": [
    "Desired Output :\n",
    "```\n",
    "['Having',\n",
    " 'lots',\n",
    " 'of',\n",
    " 'fun',\n",
    " 'goa',\n",
    " 'vaction',\n",
    " 'summervacation',\n",
    " 'Fancy',\n",
    " 'dinner',\n",
    " 'Beachbay',\n",
    " 'restro']\n",
    "```"
   ]
  },
  {
   "cell_type": "code",
   "execution_count": null,
   "metadata": {},
   "outputs": [],
   "source": [
    "import re\n",
    "# Cleaning the tweets\n",
    "text=re.sub(r'[^\\w]', ' ', text)\n",
    "\n",
    "# Using nltk's TweetTokenizer\n",
    "from nltk.tokenize import TweetTokenizer\n",
    "tokenizer=TweetTokenizer()\n",
    "tokenizer.tokenize(text)"
   ]
  },
  {
   "cell_type": "markdown",
   "metadata": {},
   "source": [
    "#### 16. How to extract all the nouns in a text?\n",
    "Difficulty Level : L2\n",
    "\n",
    "Q. Extract and print all the nouns present in the below text"
   ]
  },
  {
   "cell_type": "code",
   "execution_count": null,
   "metadata": {},
   "outputs": [],
   "source": [
    "text=\"James works at Microsoft. She lives in manchester and likes to play the flute\""
   ]
  },
  {
   "cell_type": "markdown",
   "metadata": {},
   "source": [
    "Desired Output :\n",
    "```\n",
    "James\n",
    "Microsoft\n",
    "manchester\n",
    "flute\n",
    "```"
   ]
  },
  {
   "cell_type": "code",
   "execution_count": null,
   "metadata": {},
   "outputs": [],
   "source": [
    "# Coverting the text into a spacy Doc\n",
    "import spacy\n",
    "nlp=spacy.load(\"en_core_web_sm\")\n",
    "doc=nlp(text)\n",
    "\n",
    "# Using spacy's pos_ attribute to check for part of speech tags\n",
    "for token in doc:\n",
    "  if token.pos_=='NOUN' or token.pos_=='PROPN':\n",
    "    print(token.text)"
   ]
  },
  {
   "cell_type": "markdown",
   "metadata": {},
   "source": [
    "#### 17. How to extract all the pronouns in a text?\n",
    "Difficulty Level : L2\n",
    "\n",
    "Q. Extract and print all the pronouns in the text"
   ]
  },
  {
   "cell_type": "code",
   "execution_count": null,
   "metadata": {},
   "outputs": [],
   "source": [
    "text=\"John is happy finally. He had landed his dream job finally. He told his mom. She was elated \""
   ]
  },
  {
   "cell_type": "markdown",
   "metadata": {},
   "source": [
    "Desired Output :\n",
    "```\n",
    " He\n",
    " He\n",
    " She\n",
    "```"
   ]
  },
  {
   "cell_type": "code",
   "execution_count": null,
   "metadata": {},
   "outputs": [],
   "source": [
    "# Using spacy's pos_ attribute to check for part of speech tags\n",
    "import spacy\n",
    "nlp=spacy.load(\"en_core_web_sm\")\n",
    "doc=nlp(text)\n",
    "\n",
    "for token in doc:\n",
    "  if token.pos_=='PRON':\n",
    "    print(token.text)"
   ]
  },
  {
   "cell_type": "markdown",
   "metadata": {},
   "source": [
    "#### 18. How to find similarity between two words?\n",
    "Difficulty Level : L2\n",
    "\n",
    "Find the similarity between any two words."
   ]
  },
  {
   "cell_type": "code",
   "execution_count": null,
   "metadata": {},
   "outputs": [],
   "source": [
    "word1=\"amazing\"\n",
    "word2=\"terrible\"\n",
    "word3=\"excellent\""
   ]
  },
  {
   "cell_type": "markdown",
   "metadata": {},
   "source": [
    "Desired Output:\n",
    "```\n",
    "similarity between amazing and terrible is 0.46189071343764604\n",
    "similarity between amazing and excellent is 0.6388207086737778\n",
    "```"
   ]
  },
  {
   "cell_type": "code",
   "execution_count": null,
   "metadata": {},
   "outputs": [],
   "source": [
    "# Convert words into spacy tokens\n",
    "import spacy\n",
    "nlp=spacy.load('en_core_web_lg')\n",
    "\n",
    "token1=nlp(word1)\n",
    "token2=nlp(word2)\n",
    "token3=nlp(word3)\n",
    "\n",
    "# Use similarity() function of tokens\n",
    "print('similarity between', word1,'and' ,word2, 'is' ,token1.similarity(token2))\n",
    "print('similarity between', word1,'and' ,word3, 'is' ,token1.similarity(token3))"
   ]
  },
  {
   "cell_type": "markdown",
   "metadata": {},
   "source": [
    "#### 19. How to find similarity between two documents?\n",
    "Difficulty Level : L2\n",
    "\n",
    "Q. Find the similarity between any two text documents"
   ]
  },
  {
   "cell_type": "code",
   "execution_count": null,
   "metadata": {},
   "outputs": [],
   "source": [
    "text1=\"John lives in Canada\"\n",
    "text2=\"James lives in America, though he's not from there\""
   ]
  },
  {
   "cell_type": "markdown",
   "metadata": {},
   "source": [
    "Desired Output :\n",
    "```\n",
    "0.792817083631068\n",
    "```"
   ]
  },
  {
   "cell_type": "code",
   "execution_count": null,
   "metadata": {},
   "outputs": [],
   "source": [
    "# Method 1\n",
    "# Finding similarity using spacy library\n",
    "import spacy\n",
    "import warnings\n",
    "warnings.filterwarnings(\"ignore\", category=UserWarning) \n",
    "\n",
    "nlp=spacy.load(\"en_core_web_sm\")\n",
    "\n",
    "doc1=nlp(text1)\n",
    "doc2=nlp(text2)\n",
    "print(doc1.similarity(doc2))"
   ]
  },
  {
   "cell_type": "code",
   "execution_count": null,
   "metadata": {},
   "outputs": [],
   "source": [
    "# Method 2\n",
    "from nltk.corpus import wordnet\n",
    "\n",
    "list1 = text1.split(\" \")\n",
    "list2 = text2.split(\" \")\n",
    "\n",
    "lst = []\n",
    "for word1 in list1:\n",
    "    for word2 in list2:\n",
    "        wordFromList1 = wordnet.synsets(word1)\n",
    "        wordFromList2 = wordnet.synsets(word2)\n",
    "        if wordFromList1 and wordFromList2: #Thanks to @alexis' note\n",
    "            s = wordFromList1[0].wup_similarity(wordFromList2[0])\n",
    "            lst.append(s)\n",
    "            \n",
    "s = 0\n",
    "for i in lst:\n",
    "    s += i\n",
    "\n",
    "print(1- s/len(lst))"
   ]
  },
  {
   "cell_type": "markdown",
   "metadata": {},
   "source": [
    "#### 20. How to find the cosine similarity of two documents?\n",
    "Difficulty Level : L3\n",
    "\n",
    "Q. Find the cosine similarity between two given documents"
   ]
  },
  {
   "cell_type": "code",
   "execution_count": null,
   "metadata": {},
   "outputs": [],
   "source": [
    "text1='Taj Mahal is a tourist place in India'\n",
    "text2='Great Wall of China is a tourist place in china'"
   ]
  },
  {
   "cell_type": "markdown",
   "metadata": {},
   "source": [
    "Desired Output :\n",
    "```\n",
    "[[1.         0.45584231]\n",
    " [0.45584231 1.        ]]\n",
    "```"
   ]
  },
  {
   "cell_type": "code",
   "execution_count": null,
   "metadata": {},
   "outputs": [],
   "source": [
    "# Using Vectorizer of sklearn to get vector representation\n",
    "\n",
    "from sklearn.feature_extraction.text import CountVectorizer\n",
    "import pandas as pd\n",
    "from sklearn.metrics.pairwise import cosine_similarity\n",
    "\n",
    "documents=[text1,text2]\n",
    "\n",
    "vectorizer=CountVectorizer()\n",
    "matrix=vectorizer.fit_transform(documents)\n",
    "\n",
    "# Obtaining the document-word matrix\n",
    "doc_term_matrix=matrix.todense()\n",
    "doc_term_matrix\n",
    "\n",
    "# Computing cosine similarity\n",
    "df=pd.DataFrame(doc_term_matrix)\n",
    "\n",
    "print(cosine_similarity(df,df))"
   ]
  },
  {
   "cell_type": "markdown",
   "metadata": {},
   "source": [
    "#### 21. How to find soft cosine similarity of documents ?\n",
    "Difficulty Level : L3\n",
    "\n",
    "Q. Compute the soft cosine similarity of the given documents\n",
    "\n",
    "\n",
    "Hint: Soft Cosine Similarity"
   ]
  },
  {
   "cell_type": "code",
   "execution_count": null,
   "metadata": {},
   "outputs": [],
   "source": [
    "doc_soup = \"Soup is a primarily liquid food, generally served warm or hot (but may be cool or cold), that is made by combining ingredients of meat or vegetables with stock, juice, water, or another liquid. \"\n",
    "doc_noodles = \"Noodles are a staple food in many cultures. They are made from unleavened dough which is stretched, extruded, or rolled flat and cut into one of a variety of shapes.\"\n",
    "doc_dosa = \"Dosa is a type of pancake from the Indian subcontinent, made from a fermented batter. It is somewhat similar to a crepe in appearance. Its main ingredients are rice and black gram.\"\n",
    "doc_trump = \"Mr. Trump became president after winning the political election. Though he lost the support of some republican friends, Trump is friends with President Putin\"\n",
    "doc_election = \"President Trump says Putin had no political interference is the election outcome. He says it was a witchhunt by political parties. He claimed President Putin is a friend who had nothing to do with the election\"\n",
    "doc_putin = \"Post elections, Vladimir Putin became President of Russia. President Putin had served as the Prime Minister earlier in his political career\""
   ]
  },
  {
   "cell_type": "markdown",
   "metadata": {},
   "source": [
    "Desired Output :\n",
    "```\n",
    "0.5842470477718544\n",
    "```"
   ]
  },
  {
   "cell_type": "code",
   "execution_count": null,
   "metadata": {},
   "outputs": [],
   "source": [
    "import warnings\n",
    "warnings.filterwarnings(\"ignore\", category=DeprecationWarning) \n",
    "\n",
    "# Import and download stopwords from NLTK.\n",
    "from nltk.corpus import stopwords\n",
    "from nltk import download\n",
    "download('stopwords')  # Download stopwords list.\n",
    "stop_words = stopwords.words('english')\n",
    "\n",
    "# Preprocess the sentences\n",
    "def preprocess(sentence):\n",
    "    return [w for w in sentence.lower().split() if w not in stop_words]\n",
    "\n",
    "doc_soup = preprocess(doc_soup)\n",
    "doc_noodles = preprocess(doc_noodles)\n",
    "doc_dosa = preprocess(doc_dosa)\n",
    "doc_trump = preprocess(doc_trump)\n",
    "doc_election = preprocess(doc_election)\n",
    "doc_putin = preprocess(doc_putin)\n",
    "\n",
    "# Build a dictionary and an TF-IDF model, convert the sentences to the bag-of-words format\n",
    "from gensim.corpora import Dictionary\n",
    "documents = [doc_soup, doc_noodles, doc_dosa, doc_trump, doc_election, doc_putin]\n",
    "dictionary = Dictionary(documents)\n",
    "\n",
    "doc_soup = dictionary.doc2bow(doc_soup)\n",
    "doc_noodles = dictionary.doc2bow(doc_noodles)\n",
    "doc_dosa = dictionary.doc2bow(doc_dosa)\n",
    "doc_trump = dictionary.doc2bow(doc_trump)\n",
    "doc_election = dictionary.doc2bow(doc_election)\n",
    "doc_putin = dictionary.doc2bow(doc_putin)\n",
    "\n",
    "from gensim.models import TfidfModel\n",
    "documents = [doc_soup, doc_noodles, doc_dosa, doc_trump, doc_election, doc_putin]\n",
    "tfidf = TfidfModel(documents)\n",
    "\n",
    "doc_soup = tfidf[doc_soup]\n",
    "doc_noodles = tfidf[doc_noodles]\n",
    "doc_dosa = tfidf[doc_dosa]\n",
    "doc_trump = tfidf[doc_trump]\n",
    "doc_election = tfidf[doc_election]\n",
    "doc_putin = tfidf[doc_putin]\n",
    "\n",
    "# Download the FastText model\n",
    "import gensim.downloader as api\n",
    "model = api.load('fasttext-wiki-news-subwords-300')\n",
    "# model = api.load('word2vec-google-news-300')\n",
    "\n",
    "# Prepare the similarity matrix\n",
    "from gensim.similarities import SparseTermSimilarityMatrix, WordEmbeddingSimilarityIndex\n",
    "termsim_index = WordEmbeddingSimilarityIndex(model)\n",
    "termsim_matrix = SparseTermSimilarityMatrix(termsim_index, dictionary, tfidf)\n",
    "\n",
    "# Compute SCM using the inner_product method\n",
    "similarity = termsim_matrix.inner_product(doc_soup, doc_noodles, normalized=(True, True))\n",
    "print('similarity = %f' % similarity)"
   ]
  },
  {
   "cell_type": "code",
   "execution_count": null,
   "metadata": {},
   "outputs": [],
   "source": [
    "# Compare the soft cosines for all documents against each other\n",
    "import numpy as np\n",
    "import pandas as pd\n",
    "\n",
    "sentences = [doc_soup, doc_noodles, doc_dosa, doc_trump, doc_election, doc_putin]\n",
    "\n",
    "def create_soft_cossim_matrix(sentences):\n",
    "    len_array = np.arange(len(sentences))\n",
    "    xx, yy = np.meshgrid(len_array, len_array)\n",
    "    cossim_mat = pd.DataFrame([[round(termsim_matrix.inner_product(sentences[i],sentences[j], normalized=(True, True)), 2) for i, j in zip(x,y)] for y, x in zip(xx, yy)])\n",
    "    return cossim_mat\n",
    "\n",
    "create_soft_cossim_matrix(sentences)"
   ]
  },
  {
   "cell_type": "markdown",
   "metadata": {},
   "source": [
    "#### 22. How to find similar words using pre-trained Word2Vec?\n",
    "Difficulty Level : L2\n",
    "\n",
    "Q. Find all similiar words to “amazing” using Google news Word2Vec."
   ]
  },
  {
   "cell_type": "markdown",
   "metadata": {},
   "source": [
    "Desired Output:\n",
    "```\n",
    "[('incredible', 0.90),\n",
    "('awesome', 0.82),\n",
    "('unbelievable', 0.82),\n",
    "('fantastic', 0.77),\n",
    "('phenomenal', 0.76),\n",
    "('astounding', 0.73),\n",
    "('wonderful', 0.72),\n",
    "('unbelieveable', 0.71),\n",
    "('remarkable', 0.70),\n",
    "('marvelous', 0.70)]\n",
    "```"
   ]
  },
  {
   "cell_type": "code",
   "execution_count": null,
   "metadata": {},
   "outputs": [],
   "source": [
    "import warnings\n",
    "warnings.filterwarnings(\"ignore\", category=DeprecationWarning) \n",
    "\n",
    "# Import gensim api\n",
    "import gensim.downloader as api\n",
    "\n",
    "# Load the pretrained google news word2vec model\n",
    "word2vec_model300 = api.load('word2vec-google-news-300')\n",
    "\n",
    "# Using most_similar() function\n",
    "word2vec_model300.most_similar('amazing')"
   ]
  },
  {
   "cell_type": "markdown",
   "metadata": {},
   "source": [
    "#### 23. How to compute Word mover distance?\n",
    "Difficulty Level : L3\n",
    "\n",
    "Q. Compute the word mover distance between given two texts"
   ]
  },
  {
   "cell_type": "code",
   "execution_count": null,
   "metadata": {},
   "outputs": [],
   "source": [
    "sentence_orange = 'Oranges are my favorite fruit'\n",
    "sent=\"apples are not my favorite\""
   ]
  },
  {
   "cell_type": "markdown",
   "metadata": {},
   "source": [
    "Desired Output :\n",
    "```\n",
    "5.378\n",
    "```"
   ]
  },
  {
   "cell_type": "code",
   "execution_count": null,
   "metadata": {},
   "outputs": [],
   "source": [
    "import warnings\n",
    "warnings.filterwarnings(\"ignore\", category=DeprecationWarning) \n",
    "\n",
    "# Import and download stopwords from NLTK.\n",
    "from nltk.corpus import stopwords\n",
    "from nltk import download\n",
    "download('stopwords')  # Download stopwords list.\n",
    "stop_words = stopwords.words('english')\n",
    "\n",
    "def preprocess(sentence):\n",
    "    return [w for w in sentence.lower().split() if w not in stop_words]\n",
    "\n",
    "sentence_orange = preprocess(sentence_orange)\n",
    "sent = preprocess(sent)\n",
    "\n",
    "# Importing gensim's model\n",
    "import gensim.downloader as api\n",
    "model = api.load('word2vec-google-news-300')\n",
    "\n",
    "# Computing the word mover distance\n",
    "distance = model.wmdistance(sent, sentence_orange)\n",
    "print(distance)"
   ]
  },
  {
   "cell_type": "markdown",
   "metadata": {},
   "source": [
    "#### 24. How to replace all the pronouns in a text with their respective object names\n",
    "Difficulty Level : L2\n",
    "\n",
    "Q. Replace the pronouns in below text by the respective object names"
   ]
  },
  {
   "cell_type": "code",
   "execution_count": null,
   "metadata": {},
   "outputs": [],
   "source": [
    "text=\" My sister has a dog and she loves him\""
   ]
  },
  {
   "cell_type": "markdown",
   "metadata": {},
   "source": [
    "Desired Output :\n",
    "```\n",
    "[My sister, she]\n",
    "[a dog, him ]\n",
    "```"
   ]
  },
  {
   "cell_type": "code",
   "execution_count": null,
   "metadata": {},
   "outputs": [],
   "source": [
    "# # NOT WORKING\n",
    "# # Import neural coref library\n",
    "# # neuralcoref only works with spacy v2, specifically: spacy==2.1.0, neuralcoref==4.0\n",
    "# import spacy\n",
    "# import neuralcoref\n",
    "\n",
    "# # Add it to the pipeline\n",
    "# nlp = spacy.load('en')\n",
    "# neuralcoref.add_to_pipe(nlp)\n",
    "\n",
    "# # Printing the coreferences\n",
    "# doc1 = nlp('My sister has a dog. She loves him.')\n",
    "# print(doc1._.coref_clusters)"
   ]
  },
  {
   "cell_type": "code",
   "execution_count": null,
   "metadata": {},
   "outputs": [],
   "source": [
    "import spacy\n",
    "\n",
    "text = \"My sister has a dog and she loves him\" \n",
    "\n",
    "nlp = spacy.load('en_core_web_sm')\n",
    "doc = nlp(text)\n",
    "\n",
    "pronouns = []\n",
    "objects = []\n",
    "for token in doc:\n",
    "    if token.pos_ == \"PRON\" and token.head.pos_ != \"PRON\":\n",
    "        pronouns.append(token.text)\n",
    "        objects.append(token.head.text)\n",
    "    elif token.pos_ == \"PRON\" and token.head.pos_ == \"PRON\":  \n",
    "        pronouns.append(token.text)\n",
    "        objects.append(token.head.head.text)\n",
    "\n",
    "print(pronouns)\n",
    "print(objects)"
   ]
  },
  {
   "cell_type": "markdown",
   "metadata": {},
   "source": [
    "#### 25. How to extract topic keywords using LSA?\n",
    "Difficulty Level : L3\n",
    "\n",
    "Q. Extract the topic keywords from the given texts using LSA(Latent Semantic Analysis )"
   ]
  },
  {
   "cell_type": "code",
   "execution_count": null,
   "metadata": {},
   "outputs": [],
   "source": [
    "texts= [\"\"\"It's all about travel. I travel a lot.  those who do not travel read only a page.” – said Saint Augustine. He was a great travel person. Travelling can teach you more than any university course. You learn about the culture of the country you visit. If you talk to locals, you will likely learn about their thinking, habits, traditions and history as well.If you travel, you will not only learn about foreign cultures, but about your own as well. You will notice the cultural differences, and will find out what makes your culture unique. After retrurning from a long journey, you will see your country with new eyes.\"\"\",\n",
    "        \"\"\" You can learn a lot about yourself through travelling. You can observe how you feel beeing far from your country. You will find out how you feel about your homeland.You should travel You will realise how you really feel about foreign people. You will find out how much you know/do not know about the world. You will be able to observe how you react in completely new situations. You will test your language, orientational and social skills. You will not be the same person after returning home.During travelling you will meet people that are very different from you. If you travel enough, you will learn to accept and appreciate these differences. Traveling makes you more open and accepting.\"\"\",\n",
    "        \"\"\"Some of my most cherished memories are from the times when I was travelling. If you travel, you can experience things that you could never experience at home. You may see beautiful places and landscapes that do not exist where you live. You may meet people that will change your life, and your thingking. You may try activities that you have never tried before.Travelling will inevitably make you more independent and confident. You will realise that you can cope with a lot of unexpected situations. You will realise that you can survive without all that help that is always available for you at home. You will likely find out that you are much stronger and braver than you have expected.\"\"\",\n",
    "        \"\"\"If you travel, you may learn a lot of useful things. These things can be anything from a new recepie, to a new, more effective solution to an ordinary problem or a new way of creating something.Even if you go to a country where they speak the same language as you, you may still learn some new words and expressions that are only used there. If you go to a country where they speak a different language, you will learn even more.\"\"\",\n",
    "        \"\"\"After arriving home from a long journey, a lot of travellers experience that they are much more motivated than they were before they left. During your trip you may learn things that you will want to try at home as well. You may want to test your new skills and knowledge. Your experiences will give you a lot of energy.During travelling you may experience the craziest, most exciting things, that will eventually become great stories that you can tell others. When you grow old and look back at your life and all your travel experiences, you will realise how much you have done in your life and your life was not in vain. It can provide you with happiness and satisfaction for the rest of your life.\"\"\",\n",
    "        \"\"\"The benefits of travel are not just a one-time thing: travel changes you physically and psychologically. Having little time or money isn't a valid excuse. You can travel for cheap very easily. If you have a full-time job and a family, you can still travel on the weekends or holidays, even with a baby. travel  more is likely to have a tremendous impact on your mental well-being, especially if you're no used to going out of your comfort zone. Trust me: travel more and your doctor will be happy. Be sure to get in touch with your physician, they might recommend some medication to accompany you in your travels, especially if you're heading to regions of the globe with potentially dangerous diseases.\"\"\",\n",
    "        \"\"\"Sure, you probably feel comfortable where you are, but that is just a fraction of the world! If you are a student, take advantage of programs such as Erasmus to get to know more people, experience and understand their culture. Dare traveling to regions you have a skeptical opinion about. I bet that you will change your mind and realize that everything is not so bad abroad.\"\"\",\n",
    "        \"\"\" So, travel makes you cherish life. Let's travel more . Share your travel diaries with us too\"\"\"\n",
    "        ]"
   ]
  },
  {
   "cell_type": "markdown",
   "metadata": {},
   "source": [
    "Desired Output :\n",
    "```\n",
    "Topic 0: \n",
    "learn new life travelling country feel  \n",
    "Topic 1: \n",
    "life cherish diaries let share experience  \n",
    "Topic 2: \n",
    "feel know time people just regions  \n",
    "Topic 3: \n",
    "time especially cherish diaries let share  \n",
    "..(truncated)..\n",
    "```"
   ]
  },
  {
   "cell_type": "code",
   "execution_count": null,
   "metadata": {},
   "outputs": [],
   "source": [
    "# Importing the Tf-idf vectorizer from sklearn\n",
    "from sklearn.feature_extraction.text import TfidfVectorizer\n",
    "\n",
    "# Defining the vectorizer\n",
    "vectorizer = TfidfVectorizer(stop_words='english', max_features= 1000,  max_df = 0.5, smooth_idf=True)\n",
    "\n",
    "# Transforming the tokens into the matrix form through .fit_transform()\n",
    "matrix= vectorizer.fit_transform(texts)\n",
    "\n",
    "# SVD represent documents and terms in vectors\n",
    "from sklearn.decomposition import TruncatedSVD\n",
    "SVD_model = TruncatedSVD(n_components=10, algorithm='randomized', n_iter=100, random_state=122)\n",
    "SVD_model.fit(matrix)\n",
    "\n",
    "# Getting the terms \n",
    "terms = vectorizer.get_feature_names_out()\n",
    "\n",
    "# Iterating through each topic\n",
    "for i, comp in enumerate(SVD_model.components_):\n",
    "    terms_comp = zip(terms, comp)\n",
    "    # sorting the 7 most important terms\n",
    "    sorted_terms = sorted(terms_comp, key= lambda x:x[1], reverse=True)[:7]\n",
    "    print(\"Topic \"+str(i)+\": \")\n",
    "    # printing the terms of a topic\n",
    "    for t in sorted_terms:\n",
    "        print(t[0],end=' ')\n",
    "    print(' ')"
   ]
  },
  {
   "cell_type": "markdown",
   "metadata": {},
   "source": [
    "#### 26. How to extract topic Keywords using LDA ?\n",
    "Difficulty Level : L3\n",
    "\n",
    "Q. Extract the the topics from the given texts with the help of LDA(Latent dirichlet algorithm)"
   ]
  },
  {
   "cell_type": "code",
   "execution_count": null,
   "metadata": {},
   "outputs": [],
   "source": [
    "texts= [\"\"\"It's all about travel. I travel a lot.  those who do not travel read only a page.” – said Saint Augustine. He was a great travel person. Travelling can teach you more than any university course. You learn about the culture of the country you visit. If you talk to locals, you will likely learn about their thinking, habits, traditions and history as well.If you travel, you will not only learn about foreign cultures, but about your own as well. You will notice the cultural differences, and will find out what makes your culture unique. After retrurning from a long journey, you will see your country with new eyes.\"\"\",\n",
    "        \"\"\" You can learn a lot about yourself through travelling. You can observe how you feel beeing far from your country. You will find out how you feel about your homeland.You should travel You will realise how you really feel about foreign people. You will find out how much you know/do not know about the world. You will be able to observe how you react in completely new situations. You will test your language, orientational and social skills. You will not be the same person after returning home.During travelling you will meet people that are very different from you. If you travel enough, you will learn to accept and appreciate these differences. Traveling makes you more open and accepting.\"\"\",\n",
    "        \"\"\"Some of my most cherished memories are from the times when I was travelling. If you travel, you can experience things that you could never experience at home. You may see beautiful places and landscapes that do not exist where you live. You may meet people that will change your life, and your thingking. You may try activities that you have never tried before.Travelling will inevitably make you more independent and confident. You will realise that you can cope with a lot of unexpected situations. You will realise that you can survive without all that help that is always available for you at home. You will likely find out that you are much stronger and braver than you have expected.\"\"\",\n",
    "        \"\"\"If you travel, you may learn a lot of useful things. These things can be anything from a new recepie, to a new, more effective solution to an ordinary problem or a new way of creating something.Even if you go to a country where they speak the same language as you, you may still learn some new words and expressions that are only used there. If you go to a country where they speak a different language, you will learn even more.\"\"\",\n",
    "        \"\"\"After arriving home from a long journey, a lot of travellers experience that they are much more motivated than they were before they left. During your trip you may learn things that you will want to try at home as well. You may want to test your new skills and knowledge. Your experiences will give you a lot of energy.During travelling you may experience the craziest, most exciting things, that will eventually become great stories that you can tell others. When you grow old and look back at your life and all your travel experiences, you will realise how much you have done in your life and your life was not in vain. It can provide you with happiness and satisfaction for the rest of your life.\"\"\",\n",
    "        \"\"\"The benefits of travel are not just a one-time thing: travel changes you physically and psychologically. Having little time or money isn't a valid excuse. You can travel for cheap very easily. If you have a full-time job and a family, you can still travel on the weekends or holidays, even with a baby. travel  more is likely to have a tremendous impact on your mental well-being, especially if you're no used to going out of your comfort zone. Trust me: travel more and your doctor will be happy. Be sure to get in touch with your physician, they might recommend some medication to accompany you in your travels, especially if you're heading to regions of the globe with potentially dangerous diseases.\"\"\",\n",
    "        \"\"\"Sure, you probably feel comfortable where you are, but that is just a fraction of the world! If you are a student, take advantage of programs such as Erasmus to get to know more people, experience and understand their culture. Dare traveling to regions you have a skeptical opinion about. I bet that you will change your mind and realize that everything is not so bad abroad.\"\"\",\n",
    "        \"\"\" So, travel makes you cherish life. Let's travel more . Share your travel diaries with us too\"\"\"\n",
    "        ]"
   ]
  },
  {
   "cell_type": "markdown",
   "metadata": {},
   "source": [
    "Desired Output :\n",
    "```\n",
    "[(0, '0.068*\"travel\" + 0.044*\"learn\" + 0.027*\"country\" + 0.027*\"If\" + 0.026*\"find\"'), (1, '0.054*\"may\" + 0.036*\"realise\" + 0.036*\"home\" + 0.036*\"experience\" + 0.036*\"never\"'), (2, '0.047*\"may\" + 0.044*\"life\" + 0.039*\"new\" + 0.036*\"things\" + 0.032*\"learn\"'), (3, '0.031*\"If\" + 0.031*\"people\" + 0.031*\"I\" + 0.031*\"world\" + 0.031*\"know\"'), (4, '0.085*\"travel\" + 0.042*\"\\'\" + 0.042*\"-\" + 0.042*\"time\" + 0.028*\"especially\"')]\n",
    "```"
   ]
  },
  {
   "cell_type": "code",
   "execution_count": null,
   "metadata": {},
   "outputs": [],
   "source": [
    "import warnings\n",
    "warnings.filterwarnings(\"ignore\")\n",
    "warnings.simplefilter('ignore')\n",
    "\n",
    "# Import gensim, nltk\n",
    "from gensim import models, corpora\n",
    "import nltk\n",
    "from nltk.corpus import stopwords\n",
    "\n",
    "# Before topic extraction, we remove punctuations and stopwords.\n",
    "my_stopwords=set(stopwords.words('english'))\n",
    "punctuations=['.','!',',',\"You\",\"I\"]\n",
    "\n",
    "# We prepare a list containing lists of tokens of each text\n",
    "all_tokens=[]\n",
    "for text in texts:\n",
    "  tokens=[]\n",
    "  raw=nltk.wordpunct_tokenize(text)\n",
    "  for token in raw:\n",
    "    if token not in my_stopwords:\n",
    "      if token not in punctuations:\n",
    "        tokens.append(token)\n",
    "        all_tokens.append(tokens)\n",
    "\n",
    "# Creating a gensim dictionary and the matrix\n",
    "dictionary = corpora.Dictionary(all_tokens)\n",
    "doc_term_matrix = [dictionary.doc2bow(doc) for doc in all_tokens]\n",
    "\n",
    "# Building the model and training it with the matrix \n",
    "from gensim.models.ldamodel import LdaModel\n",
    "model = LdaModel(doc_term_matrix, num_topics=5, id2word = dictionary,passes=40)\n",
    "\n",
    "print(model.print_topics(num_topics=6,num_words=5))"
   ]
  },
  {
   "cell_type": "markdown",
   "metadata": {},
   "source": [
    "#### 27. How to extract topic keywords using NMF?\n",
    "Difficulty Level : L3\n",
    "\n",
    "Q. Extract the the topics from the given texts with the help of NMF(Non-negative Matrix Factorization method)"
   ]
  },
  {
   "cell_type": "code",
   "execution_count": null,
   "metadata": {},
   "outputs": [],
   "source": [
    "texts= [\"\"\"It's all about travel. I travel a lot.  those who do not travel read only a page.” – said Saint Augustine. He was a great travel person. Travelling can teach you more than any university course. You learn about the culture of the country you visit. If you talk to locals, you will likely learn about their thinking, habits, traditions and history as well.If you travel, you will not only learn about foreign cultures, but about your own as well. You will notice the cultural differences, and will find out what makes your culture unique. After retrurning from a long journey, you will see your country with new eyes.\"\"\",\n",
    "        \"\"\" You can learn a lot about yourself through travelling. You can observe how you feel beeing far from your country. You will find out how you feel about your homeland.You should travel You will realise how you really feel about foreign people. You will find out how much you know/do not know about the world. You will be able to observe how you react in completely new situations. You will test your language, orientational and social skills. You will not be the same person after returning home.During travelling you will meet people that are very different from you. If you travel enough, you will learn to accept and appreciate these differences. Traveling makes you more open and accepting.\"\"\",\n",
    "        \"\"\"Some of my most cherished memories are from the times when I was travelling. If you travel, you can experience things that you could never experience at home. You may see beautiful places and landscapes that do not exist where you live. You may meet people that will change your life, and your thingking. You may try activities that you have never tried before.Travelling will inevitably make you more independent and confident. You will realise that you can cope with a lot of unexpected situations. You will realise that you can survive without all that help that is always available for you at home. You will likely find out that you are much stronger and braver than you have expected.\"\"\",\n",
    "        \"\"\"If you travel, you may learn a lot of useful things. These things can be anything from a new recepie, to a new, more effective solution to an ordinary problem or a new way of creating something.Even if you go to a country where they speak the same language as you, you may still learn some new words and expressions that are only used there. If you go to a country where they speak a different language, you will learn even more.\"\"\",\n",
    "        \"\"\"After arriving home from a long journey, a lot of travellers experience that they are much more motivated than they were before they left. During your trip you may learn things that you will want to try at home as well. You may want to test your new skills and knowledge. Your experiences will give you a lot of energy.During travelling you may experience the craziest, most exciting things, that will eventually become great stories that you can tell others. When you grow old and look back at your life and all your travel experiences, you will realise how much you have done in your life and your life was not in vain. It can provide you with happiness and satisfaction for the rest of your life.\"\"\",\n",
    "        \"\"\"The benefits of travel are not just a one-time thing: travel changes you physically and psychologically. Having little time or money isn't a valid excuse. You can travel for cheap very easily. If you have a full-time job and a family, you can still travel on the weekends or holidays, even with a baby. travel  more is likely to have a tremendous impact on your mental well-being, especially if you're no used to going out of your comfort zone. Trust me: travel more and your doctor will be happy. Be sure to get in touch with your physician, they might recommend some medication to accompany you in your travels, especially if you're heading to regions of the globe with potentially dangerous diseases.\"\"\",\n",
    "        \"\"\"Sure, you probably feel comfortable where you are, but that is just a fraction of the world! If you are a student, take advantage of programs such as Erasmus to get to know more people, experience and understand their culture. Dare traveling to regions you have a skeptical opinion about. I bet that you will change your mind and realize that everything is not so bad abroad.\"\"\",\n",
    "        \"\"\" So, travel makes you cherish life. Let's travel more . Share your travel diaries with us too\"\"\"\n",
    "        ]"
   ]
  },
  {
   "cell_type": "markdown",
   "metadata": {},
   "source": [
    "Desired Output:\n",
    "```\n",
    " Topic 0:\n",
    " [('new', 0.6329770846997606), ('learn', 0.49810389825931783), ('speak', 0.47477546214544547), ('language', 0.43443029670471806), ('country', 0.36653909845383115), ('things', 0.3433223730439043)]\n",
    " Topic 1:\n",
    " [('life', 0.34063551920788737), ('home', 0.31402014643240667), ('experience', 0.3025841622571281), ('realise', 0.24642870225288288), ('travelling', 0.2180915553025073), ('things', 0.2076347895889257)]\n",
    " Topic 2:\n",
    " [('feel', 0.3462484013922396), ('know', 0.28400088182008115), ('people', 0.2431266883545085), ('world', 0.22169277349692076), ('traveling', 0.22169277349692076), ('bet', 0.18671974365540467)]\n",
    "...(truncated)\n",
    "```"
   ]
  },
  {
   "cell_type": "code",
   "execution_count": null,
   "metadata": {},
   "outputs": [],
   "source": [
    "from sklearn.feature_extraction.text import TfidfVectorizer\n",
    "\n",
    "# Defining the vectorizer\n",
    "vectorizer = TfidfVectorizer(stop_words='english', max_features= 1000,  max_df = 0.5, smooth_idf=True)\n",
    "\n",
    "# Transforming the tokens into the matrix form through .fit_transform()\n",
    "nmf_matrix= vectorizer.fit_transform(texts)\n",
    "\n",
    "from sklearn.decomposition import NMF\n",
    "nmf_model = NMF(n_components=6)\n",
    "nmf_model.fit(nmf_matrix)\n",
    "\n",
    "# Function to print topics\n",
    "def print_topics_nmf(model, vectorizer, top_n=6):\n",
    "    for idx, topic in enumerate(model.components_):\n",
    "        print(\"Topic %d:\" % (idx))\n",
    "        print([(vectorizer.get_feature_names_out()[i], topic[i])\n",
    "                        for i in topic.argsort()[:-top_n - 1:-1]])\n",
    "        \n",
    "print_topics_nmf(nmf_model,vectorizer)"
   ]
  },
  {
   "cell_type": "markdown",
   "metadata": {},
   "source": [
    "#### 28. How to classify a text as positive/negative sentiment\n",
    "Difficulty Level : L2\n",
    "\n",
    "Q. Detect if a text is positive or negative sentiment"
   ]
  },
  {
   "cell_type": "code",
   "execution_count": null,
   "metadata": {},
   "outputs": [],
   "source": [
    "text=\"It was a very pleasant day\""
   ]
  },
  {
   "cell_type": "markdown",
   "metadata": {},
   "source": [
    "Desired Output:\n",
    "```\n",
    "Sentiment(polarity=0.9533333333333333, subjectivity=1.0)\n",
    "Positive\n",
    "```"
   ]
  },
  {
   "cell_type": "code",
   "execution_count": null,
   "metadata": {},
   "outputs": [],
   "source": [
    "# Sentiment analysis with TextBlob\n",
    "from textblob import TextBlob\n",
    "blob=TextBlob(text)\n",
    "\n",
    "# Using the sentiment attribute \n",
    "print(blob.sentiment)\n",
    "if(blob.sentiment.polarity > 0):\n",
    "  print(\"Positive\")"
   ]
  },
  {
   "cell_type": "markdown",
   "metadata": {},
   "source": [
    "#### 29. How to use the Word2Vec model for representing words?\n",
    "Difficulty Level : L2\n",
    "\n",
    "Q. Extract the word vector representation of the word using word2vec model"
   ]
  },
  {
   "cell_type": "code",
   "execution_count": 1,
   "metadata": {},
   "outputs": [],
   "source": [
    "texts= [\" Photography is an excellent hobby to pursue \",\n",
    "        \" Photographers usually develop patience, calmnesss\",\n",
    "        \" You can try Photography with any good mobile too\"]"
   ]
  },
  {
   "cell_type": "markdown",
   "metadata": {},
   "source": [
    "Desired Output:\n",
    "```\n",
    "array([ 2.94046826e-03, -1.31368915e-05, -3.43682081e-03, -3.73885059e-03,\n",
    "        2.49790819e-03, -1.23431312e-03, -9.60227044e-04,  2.31345627e-03,\n",
    "       -4.97973803e-03,  2.09524506e-03,  2.00997619e-03, -4.10459843e-03,\n",
    "        8.42132606e-04, -2.70003616e-03,  3.12150107e-03,  1.23607670e-03,\n",
    "        2.16376456e-03,  5.02903073e-04, -3.72780557e-03,  4.35266597e-03,\n",
    "       -1.80016900e-03,  3.42973252e-03, -2.12087762e-03,  1.14531387e-04,\n",
    "        3.03449039e-03, -8.75897415e-04, -3.50620854e-03,  5.10322629e-03,\n",
    "        ...(truncated)\n",
    "Positive\n",
    "```"
   ]
  },
  {
   "cell_type": "code",
   "execution_count": null,
   "metadata": {},
   "outputs": [],
   "source": [
    "# We prepare a list containing lists of tokens of each text\n",
    "import nltk\n",
    "\n",
    "all_tokens = []\n",
    "for text in texts:\n",
    "  tokens = []\n",
    "  raw = nltk.tokenize.wordpunct_tokenize(text.strip())\n",
    "  for token in raw:\n",
    "    tokens.append(token)\n",
    "  all_tokens.append(tokens)\n",
    "\n",
    "# Import and fit the model with data\n",
    "import gensim\n",
    "from gensim.models import Word2Vec\n",
    "\n",
    "model = Word2Vec(all_tokens, min_count=1)\n",
    "\n",
    "# Getting the vector representation of a word\n",
    "model.wv['Photography']"
   ]
  },
  {
   "cell_type": "markdown",
   "metadata": {},
   "source": [
    "#### 30. How to visualize the word embedding obtained from word2Vec model ?\n",
    "Difficulty Level : L4\n",
    "\n",
    "Q. Implement Word embedding on the given texts and visualize it"
   ]
  },
  {
   "cell_type": "code",
   "execution_count": 1,
   "metadata": {},
   "outputs": [],
   "source": [
    "texts= [\" Photography is an excellent hobby to pursue \",\n",
    "        \" Photographers usually develop patience, calmnesss\",\n",
    "        \" You can try Photography with any good mobile too\"]"
   ]
  },
  {
   "attachments": {
    "image.png": {
     "image/png": "[encoded data removed]"
    }
   },
   "cell_type": "markdown",
   "metadata": {},
   "source": [
    "Desire output:\n",
    "\n",
    "![image.png](attachment:image.png)"
   ]
  },
  {
   "cell_type": "code",
   "execution_count": 3,
   "metadata": {},
   "outputs": [
    {
     "data": {
      "image/png": "[encoded data removed]",
      "text/plain": [
       "<Figure size 640x480 with 1 Axes>"
      ]
     },
     "metadata": {},
     "output_type": "display_data"
    }
   ],
   "source": [
    "import nltk\n",
    "# We prepare a list containing lists of tokens of each text\n",
    "all_tokens=[]\n",
    "for text in texts:\n",
    "  tokens=[]\n",
    "  raw=nltk.wordpunct_tokenize(text.strip())\n",
    "  for token in raw:\n",
    "    tokens.append(token)\n",
    "  all_tokens.append(tokens)\n",
    "\n",
    "# Import and fit the model with data\n",
    "from gensim.models import Word2Vec\n",
    "model=Word2Vec(all_tokens, min_count=1)\n",
    "\n",
    "# Visualizing the word embedding\n",
    "from sklearn.decomposition import PCA\n",
    "from matplotlib import pyplot\n",
    "\n",
    "col = ['col' + str(i) for i in range(len(model.wv[0]))]\n",
    "import pandas as pd\n",
    "import numpy as np\n",
    "\n",
    "X = pd.DataFrame([], columns=col)\n",
    "for idx in range(len(model.wv)):\n",
    "  X.loc[idx] = model.wv[idx]\n",
    "\n",
    "# PCA down to 2D\n",
    "pca = PCA(n_components=2)\n",
    "result = pca.fit_transform(X)\n",
    "\n",
    "# create a scatter plot of the projection\n",
    "pyplot.scatter(result[:, 0], result[:, 1])\n",
    "words = list(set(sum(all_tokens, [])))\n",
    "for i, word in enumerate(words):\n",
    "\tpyplot.annotate(word, xy=(result[i, 0], result[i, 1]))\n",
    "pyplot.show()"
   ]
  },
  {
   "cell_type": "code",
   "execution_count": null,
   "metadata": {},
   "outputs": [],
   "source": [
    "from gensim.models import Word2Vec"
   ]
  },
  {
   "cell_type": "markdown",
   "metadata": {},
   "source": [
    "#### 31. How to represent the document using Doc2Vec model?\n",
    "Difficulty Level : L2\n",
    "\n",
    "Q. Represent a text document in the form a vector"
   ]
  },
  {
   "cell_type": "code",
   "execution_count": null,
   "metadata": {},
   "outputs": [],
   "source": [
    "texts= [\" Photography is an excellent hobby to pursue \",\n",
    "        \" Photographers usually develop patience, calmnesss\"\n",
    "        \" You can try Photography with any good mobile too\"]"
   ]
  },
  {
   "cell_type": "markdown",
   "metadata": {},
   "source": [
    "Desired Output:\n",
    "```\n",
    "array([ 2.6586275e-03,  3.2867077e-03, -2.0473711e-03,  6.0251489e-04,\n",
    "       -1.5340233e-03,  1.5060971e-03,  1.0988972e-03,  1.0712545e-03,\n",
    "       -4.3745534e-03, -4.0448168e-03, -1.8953394e-04, -2.0953947e-04,\n",
    "       -3.3285557e-03,  1.0409033e-03, -8.5728493e-04,  4.5999791e-03,\n",
    "        ...(truncated)..\n",
    "```"
   ]
  },
  {
   "cell_type": "code",
   "execution_count": null,
   "metadata": {},
   "outputs": [],
   "source": [
    "# Importing the model\n",
    "import gensim\n",
    "from gensim.models import Doc2Vec\n",
    "\n",
    "# Preparing data in the format and fitting to the model\n",
    "all_tokens=[]\n",
    "for text in texts:\n",
    "   tokens=[]\n",
    "   raw=nltk.wordpunct_tokenize(text.strip())\n",
    "   for token in raw:\n",
    "      tokens.append(token)\n",
    "   all_tokens.append(tokens)\n",
    "\n",
    "def tagged_document(list_of_list_of_words):\n",
    "   for i, list_of_words in enumerate(list_of_list_of_words):\n",
    "      yield gensim.models.doc2vec.TaggedDocument(list_of_words, [i])\n",
    "\n",
    "my_data = list(tagged_document(all_tokens))\n",
    "model=Doc2Vec(my_data, min_count=1)\n",
    "\n",
    "model.infer_vector(['photography','is','an',' excellent ','hobby ','to',' pursue '])"
   ]
  },
  {
   "cell_type": "markdown",
   "metadata": {},
   "source": [
    "#### 32. How to extract the TF-IDF Matrix ?\n",
    "Difficulty Level : L3\n",
    "\n",
    "Q. Extract the TF-IDF (Term Frequency -Inverse Document Frequency) Matrix for the given list of text documents"
   ]
  },
  {
   "cell_type": "code",
   "execution_count": null,
   "metadata": {},
   "outputs": [],
   "source": [
    "text_documents=['Painting is a hobby for many , passion for some',\n",
    "                'My hobby is coin collection'\n",
    "                'I do some Painting every now and then']"
   ]
  },
  {
   "cell_type": "markdown",
   "metadata": {},
   "source": [
    "Desired Output:\n",
    "```\n",
    "(0, 13)\t0.2511643891128359\n",
    "(0, 12)\t0.35300278529739293\n",
    "(0, 8)\t0.35300278529739293\n",
    "(0, 5)\t0.7060055705947859\n",
    "(0, 6)\t0.2511643891128359\n",
    "(0, 7)\t0.2511643891128359\n",
    "...(truncated)..\n",
    "```"
   ]
  },
  {
   "cell_type": "code",
   "execution_count": null,
   "metadata": {},
   "outputs": [],
   "source": [
    "# Using sklearn's TfidfVectorizer\n",
    "from sklearn.feature_extraction.text import TfidfVectorizer\n",
    "\n",
    "# Fit the vectorizer to our text documents\n",
    "vectorizer = TfidfVectorizer()\n",
    "matrix = vectorizer.fit_transform(text_documents)\n",
    "print(matrix)"
   ]
  },
  {
   "cell_type": "markdown",
   "metadata": {},
   "source": [
    "#### 33. How to create bigrams using Gensim’s Phraser ?\n",
    "Difficulty Level : L3\n",
    "\n",
    "Q. Create bigrams from the given texts using Gensim library’s Phrases"
   ]
  },
  {
   "cell_type": "code",
   "execution_count": null,
   "metadata": {},
   "outputs": [],
   "source": [
    "documents = [\"the mayor of new york was there\", \"new york mayor was present\"]"
   ]
  },
  {
   "cell_type": "markdown",
   "metadata": {},
   "source": [
    "Desired Output:\n",
    "```\n",
    "['the', 'mayor', 'of', 'new york', 'was', 'there']\n",
    "['new york', 'mayor', 'was', 'present']\n",
    "```"
   ]
  },
  {
   "cell_type": "code",
   "execution_count": null,
   "metadata": {},
   "outputs": [],
   "source": [
    "# Import Phraser from gensim\n",
    "from gensim.models import Phrases\n",
    "from gensim.models.phrases import Phraser\n",
    "\n",
    "sentence_stream = [doc.split(\" \") for doc in documents]\n",
    "\n",
    "# Creating bigram phraser\n",
    "bigram = Phrases(sentence_stream, min_count=1, threshold=2, delimiter=\" \")\n",
    "bigram_phraser = Phraser(bigram)\n",
    "\n",
    "for sent in sentence_stream:\n",
    "    tokens_ = bigram_phraser[sent]\n",
    "    print(tokens_)"
   ]
  },
  {
   "cell_type": "markdown",
   "metadata": {},
   "source": [
    "#### 34. How to create bigrams, trigrams using ngrams ?\n",
    "Difficulty Level : L3\n",
    "\n",
    "Q. Extract all bigrams , trigrams using ngrams of nltk library"
   ]
  },
  {
   "cell_type": "code",
   "execution_count": null,
   "metadata": {},
   "outputs": [],
   "source": [
    "Sentences=\"Machine learning is a neccessary field in today's world. Data science can do wonders . Natural Language Processing is how machines understand text \""
   ]
  },
  {
   "cell_type": "markdown",
   "metadata": {},
   "source": [
    "Desired Output:\n",
    "```\n",
    "Bigrams are [('machine', 'learning'), ('learning', 'is'), ('is', 'a'), ('a', 'neccessary'), ('neccessary', 'field'), ('field', 'in'), ('in', \"today's\"), (\"today's\", 'world.'), ('world.', 'data'), ('data', 'science'), ('science', 'can'), ('can', 'do'), ('do', 'wonders'), ('wonders', '.'), ('.', 'natural'), ('natural', 'language'), ('language', 'processing'), ('processing', 'is'), ('is', 'how'), ('how', 'machines'), ('machines', 'understand'), ('understand', 'text')]\n",
    " Trigrams are [('machine', 'learning', 'is'), ('learning', 'is', 'a'), ('is', 'a', 'neccessary'), ('a', 'neccessary', 'field'), ('neccessary', 'field', 'in'), ('field', 'in', \"today's\"), ('in', \"today's\", 'world.'), (\"today's\", 'world.', 'data'), ('world.', 'data', 'science'), ('data', 'science', 'can'), ('science', 'can', 'do'), ('can', 'do', 'wonders'), ('do', 'wonders', '.'), ('wonders', '.', 'natural'), ('.', 'natural', 'language'), ('natural', 'language', 'processing'), ('language', 'processing', 'is'), ('processing', 'is', 'how'), ('is', 'how', 'machines'), ('how', 'machines', 'understand'), ('machines', 'understand', 'text')]\n",
    "```"
   ]
  },
  {
   "cell_type": "code",
   "execution_count": null,
   "metadata": {},
   "outputs": [],
   "source": [
    "from nltk import ngrams\n",
    "bigram=list(ngrams(Sentences.lower().split(),2))\n",
    "trigram=list(ngrams(Sentences.lower().split(),3))\n",
    "\n",
    "print(\" Bigrams are\",bigram)\n",
    "print(\" Trigrams are\", trigram)"
   ]
  },
  {
   "cell_type": "markdown",
   "metadata": {},
   "source": [
    "#### 35. How to detect the language of entered text ?\n",
    "Difficulty Level : L1\n",
    "\n",
    "Q. Find out the language of the given text"
   ]
  },
  {
   "cell_type": "code",
   "execution_count": null,
   "metadata": {},
   "outputs": [],
   "source": [
    "text=\"El agente imprime su pase de abordaje. Los oficiales de seguridad del aeropuerto pasan junto a él con un perro grande. El perro está olfateando alrededor del equipaje de las personas tratando de detectar drogas o explosivos.\""
   ]
  },
  {
   "cell_type": "markdown",
   "metadata": {},
   "source": [
    "Desired Output:\n",
    "```\n",
    "{'language': 'es', 'score': 0.9999963653206719}\n",
    " El agente imprime su pase de abordaje. {'language': 'es', 'score': 0.9999969081229643} \n",
    "```"
   ]
  },
  {
   "cell_type": "code",
   "execution_count": null,
   "metadata": {},
   "outputs": [],
   "source": [
    "# Install spacy's languagedetect library\n",
    "import spacy\n",
    "from spacy_langdetect import LanguageDetector\n",
    "from spacy.language import Language\n",
    "nlp = spacy.load('en_core_web_sm')\n",
    "\n",
    "@Language.factory('language_detector')\n",
    "def language_detector(nlp, name):\n",
    "   return LanguageDetector()\n",
    "\n",
    "# Add the language detector to the processing pipeline\n",
    "nlp.add_pipe('language_detector', last=True)\n",
    "\n",
    "doc = nlp(text)\n",
    "# document level language detection. Think of it like average language of the document!\n",
    "print(doc._.language)\n",
    "# sentence level language detection\n",
    "for sent in doc.sents:\n",
    "   print(sent, sent._.language)"
   ]
  },
  {
   "cell_type": "markdown",
   "metadata": {},
   "source": [
    "#### 36. How to merge two tokens as one ?\n",
    "Difficulty Level : L3\n",
    "\n",
    "Q. Merge the first name and last name as single token in the given sentence"
   ]
  },
  {
   "cell_type": "code",
   "execution_count": null,
   "metadata": {},
   "outputs": [],
   "source": [
    "text=\"Robert Langdon is a famous character in various books and movies \""
   ]
  },
  {
   "cell_type": "markdown",
   "metadata": {},
   "source": [
    "Desired Output:\n",
    "```\n",
    "Robert Langdon\n",
    "is\n",
    "a\n",
    "famous\n",
    "character\n",
    "in\n",
    "various\n",
    "books\n",
    "and\n",
    "movies\n",
    "```"
   ]
  },
  {
   "cell_type": "code",
   "execution_count": null,
   "metadata": {},
   "outputs": [],
   "source": [
    "import spacy\n",
    "nlp = spacy.load('en_core_web_sm')\n",
    "\n",
    "# Using retokenize() method of Doc object to merge two tokens\n",
    "doc = nlp(text)\n",
    "with doc.retokenize() as retokenizer:\n",
    "    retokenizer.merge(doc[0:2])\n",
    "\n",
    "for token in doc:\n",
    "  print(token.text)"
   ]
  },
  {
   "cell_type": "markdown",
   "metadata": {},
   "source": [
    "#### 37. How to extract Noun phrases from a text ?\n",
    "Difficulty Level : L2\n",
    "\n",
    "Q. Extract and print the noun phrases in given text document"
   ]
  },
  {
   "cell_type": "code",
   "execution_count": null,
   "metadata": {},
   "outputs": [],
   "source": [
    "text=\"There is a empty house on the Elm Street\""
   ]
  },
  {
   "cell_type": "markdown",
   "metadata": {},
   "source": [
    "Expected Output :\n",
    "```\n",
    "[a empty house, the Elm Street]\n",
    "```"
   ]
  },
  {
   "cell_type": "code",
   "execution_count": null,
   "metadata": {},
   "outputs": [],
   "source": [
    "import spacy\n",
    "nlp = spacy.load('en_core_web_sm')\n",
    "\n",
    "# Create a spacy doc of the text\n",
    "doc = nlp(text)\n",
    "\n",
    "# Use `noun_chunks` attribute to extract the Noun phrases\n",
    "chunks = list(doc.noun_chunks)\n",
    "chunks"
   ]
  },
  {
   "cell_type": "markdown",
   "metadata": {},
   "source": [
    "#### 38. How to extract Verb phrases from the text ?\n",
    "Difficulty Level : L3\n",
    "\n",
    "Q. Extract the Verb Phrases from the given text"
   ]
  },
  {
   "cell_type": "code",
   "execution_count": null,
   "metadata": {},
   "outputs": [],
   "source": [
    "text=(\"I may bake a cake for my birthday. The talk will introduce reader about Use of baking\")"
   ]
  },
  {
   "cell_type": "markdown",
   "metadata": {},
   "source": [
    "Desired Output:\n",
    "```\n",
    "may bake\n",
    "will introduce\n",
    "```"
   ]
  },
  {
   "cell_type": "code",
   "execution_count": null,
   "metadata": {},
   "outputs": [],
   "source": [
    "# # NOT WORKING\n",
    "# # Import textacy library\n",
    "# import textacy\n",
    "\n",
    "# # Regex pattern to identify verb phrase\n",
    "# pattern = r'<VERB>?<ADV>*<VERB>+'\n",
    "# doc = textacy.make_spacy_doc(text, lang='en_core_web_sm')\n",
    "\n",
    "# # Finding matches\n",
    "# verb_phrases = [_ for _ in textacy.extract.matches.regex_matches(doc, pattern)]\n",
    "\n",
    "# # Print all Verb Phrase\n",
    "# for chunk in verb_phrases:\n",
    "#   print(chunk.text)"
   ]
  },
  {
   "cell_type": "code",
   "execution_count": null,
   "metadata": {},
   "outputs": [],
   "source": [
    "import spacy\n",
    "nlp = spacy.load('en_core_web_sm')\n",
    "doc = nlp(text)\n",
    "\n",
    "verb_phrases = []\n",
    "tmp = []\n",
    "for token in doc:\n",
    "    if token.pos_ in [\"VERB\", \"AUX\"]:\n",
    "        tmp.append(token.text)\n",
    "    else:\n",
    "        if len(tmp) != 0:\n",
    "            verb_phrases.append(\" \".join(tmp))\n",
    "            tmp = []\n",
    "for ele in verb_phrases:\n",
    "    print(ele)"
   ]
  },
  {
   "cell_type": "markdown",
   "metadata": {},
   "source": [
    "#### 39. How to extract first name and last names present in the document ?\n",
    "Difficulty Level : L3\n",
    "\n",
    "Q. Extract any two consecutive Proper Nouns that occour in the text document"
   ]
  },
  {
   "cell_type": "code",
   "execution_count": null,
   "metadata": {},
   "outputs": [],
   "source": [
    "text=\"Sherlock Holmes and Clint Thomas were good friends. I am a fan of John Mark\""
   ]
  },
  {
   "cell_type": "markdown",
   "metadata": {},
   "source": [
    "Desired Output:\n",
    "```\n",
    " Sherlock Holmes\n",
    " Clint Thomas\n",
    " John Mark\n",
    "```"
   ]
  },
  {
   "cell_type": "code",
   "execution_count": null,
   "metadata": {},
   "outputs": [],
   "source": [
    "# Import and initialize spacy's matcher\n",
    "import spacy\n",
    "from spacy.matcher import Matcher\n",
    "\n",
    "nlp = spacy.load(\"en_core_web_sm\")\n",
    "matcher = Matcher(nlp.vocab)\n",
    "\n",
    "pattern = [{'POS': 'PROPN'}, {'POS': 'PROPN'}]\n",
    "matcher.add('FULL_NAME', [pattern])\n",
    "\n",
    "doc=nlp(text)\n",
    "matches = matcher(doc)\n",
    "for match_id, start, end in matches:\n",
    "  span = doc[start:end]\n",
    "  print(span.text)"
   ]
  },
  {
   "cell_type": "markdown",
   "metadata": {},
   "source": [
    "#### 40. How to identify named entities in the given text\n",
    "Difficulty Level : L2\n",
    "\n",
    "Q. Identify and print all the named entities with their labels in the below text"
   ]
  },
  {
   "cell_type": "code",
   "execution_count": null,
   "metadata": {},
   "outputs": [],
   "source": [
    "text=\" Walter works at Google. He lives in London.\""
   ]
  },
  {
   "cell_type": "markdown",
   "metadata": {},
   "source": [
    "Desired Output:\n",
    "```\n",
    " Walter PERSON\n",
    " Google ORG\n",
    " London GPE\n",
    "```"
   ]
  },
  {
   "cell_type": "code",
   "execution_count": null,
   "metadata": {},
   "outputs": [],
   "source": [
    "import spacy\n",
    "\n",
    "# Load spacy modelimport spacy\n",
    "nlp=spacy.load(\"en_core_web_sm\")\n",
    "doc=nlp(text)\n",
    "# Using the ents attribute of doc, identify labels\n",
    "for entity in doc.ents:  \n",
    "   print(entity.text,entity.label_)"
   ]
  },
  {
   "cell_type": "markdown",
   "metadata": {},
   "source": [
    "#### 41. How to identify all the names of Organizations present in the text with NER ?\n",
    "Difficulty Level : L2\n",
    "\n",
    "Q. Identify and extract a list of all organizations/Companies mentioned in the given news article"
   ]
  },
  {
   "cell_type": "code",
   "execution_count": null,
   "metadata": {},
   "outputs": [],
   "source": [
    "text =\" Google has released it's new model which has got attention of everyone. Amazon is planning to expand into Food delivery, thereby giving competition . Apple is coming up with new iphone model. Flipkart will have to catch up soon.\""
   ]
  },
  {
   "cell_type": "markdown",
   "metadata": {},
   "source": [
    "Expected Solution\n",
    "```\n",
    "['Google', 'Amazon', 'Apple', 'Flipkart']\n",
    "```"
   ]
  },
  {
   "cell_type": "code",
   "execution_count": null,
   "metadata": {},
   "outputs": [],
   "source": [
    "import spacy\n",
    "nlp=spacy.load(\"en_core_web_sm\")\n",
    "doc=nlp(text.strip())\n",
    "list_of_org=[]\n",
    "for entity in doc.ents:\n",
    "  if entity.label_==\"ORG\":\n",
    "    list_of_org.append(entity.text)\n",
    "\n",
    "print(list_of_org)"
   ]
  },
  {
   "cell_type": "markdown",
   "metadata": {},
   "source": [
    "#### 42. How to replace all names of people in the text with ‘UNKNOWN’\n",
    "Difficulty Level : L3\n",
    "\n",
    "Q. Identify and replace all the person names in the news article with UNKNOWN"
   ]
  },
  {
   "cell_type": "code",
   "execution_count": null,
   "metadata": {},
   "outputs": [],
   "source": [
    "news=\" Walter was arrested yesterday at Brooklyn for murder. The suspicions and fingerprints pointed to Walter  and his friend  Pinkman . The arrest was made by inspector Hank\""
   ]
  },
  {
   "cell_type": "markdown",
   "metadata": {},
   "source": [
    "Desired Output :\n",
    "```\n",
    "'  UNKNOWN was arrested yesterday at Brooklyn for murder . The suspicions and fingerprints pointed to UNKNOWN   and his friend   UNKNOWN . The arrest was made by inspector UNKNOWN'\n",
    "```"
   ]
  },
  {
   "cell_type": "code",
   "execution_count": null,
   "metadata": {},
   "outputs": [],
   "source": [
    "import spacy\n",
    "nlp=spacy.load(\"en_core_web_sm\")\n",
    "doc=nlp(news)\n",
    "\n",
    "# Identifying the entities of category 'PERSON'\n",
    "entities = [entity.text  for entity in doc.ents  if entity.label_=='PERSON']\n",
    "updated_text=[]\n",
    "\n",
    "for token in doc:\n",
    "  if token.text in entities:\n",
    "    updated_text.append(\"UNKNOWN\")\n",
    "  else :\n",
    "    updated_text.append(token.text)\n",
    "\n",
    "\" \".join(updated_text)"
   ]
  },
  {
   "cell_type": "markdown",
   "metadata": {},
   "source": [
    "#### 43. How to visualize the named entities using spaCy\n",
    "Difficulty Level : L2\n",
    "\n",
    "Q. Display the named entities prsent in the given document along with their categories using spacy"
   ]
  },
  {
   "cell_type": "code",
   "execution_count": null,
   "metadata": {},
   "outputs": [],
   "source": [
    "text=\" Walter was arrested yesterday at Brooklyn for murder. The suspicions and fingerprints pointed to Walter  and his friend  Pinkman . He is from Paris \""
   ]
  },
  {
   "attachments": {
    "image.png": {
     "image/png": "[encoded data removed]"
    }
   },
   "cell_type": "markdown",
   "metadata": {},
   "source": [
    "Desired output:\n",
    "\n",
    "![image.png](attachment:image.png)"
   ]
  },
  {
   "cell_type": "code",
   "execution_count": null,
   "metadata": {},
   "outputs": [],
   "source": [
    "# Use spacy's displacy with the parameter style=\"ent\"\n",
    "import spacy\n",
    "nlp=spacy.load(\"en_core_web_sm\")\n",
    "from spacy import displacy\n",
    "doc=nlp(text)\n",
    "displacy.render(doc,style='ent',jupyter=True)"
   ]
  },
  {
   "cell_type": "markdown",
   "metadata": {},
   "source": [
    "#### 44. How to implement dependency parsing ?\n",
    "Difficulty Level : L2\n",
    "\n",
    "Q. Find the dependencies of all the words in the given text"
   ]
  },
  {
   "cell_type": "code",
   "execution_count": null,
   "metadata": {},
   "outputs": [],
   "source": [
    "text=\"Mark plays volleyball every evening.\""
   ]
  },
  {
   "cell_type": "markdown",
   "metadata": {},
   "source": [
    "Desired Output :\n",
    "```\n",
    " Mark nsubj\n",
    " plays ROOT\n",
    " volleyball dobj\n",
    " every det\n",
    " evening npadvmod\n",
    " . punct\n",
    "```"
   ]
  },
  {
   "cell_type": "code",
   "execution_count": null,
   "metadata": {},
   "outputs": [],
   "source": [
    "import spacy\n",
    "nlp=spacy.load(\"en_core_web_sm\")\n",
    "# Using dep_ attribute od tokens in spaCy to access the dependency of the word in sentence.\n",
    "doc=nlp(text)\n",
    "\n",
    "for token in doc:\n",
    "  print(token.text,token.dep_)"
   ]
  },
  {
   "cell_type": "markdown",
   "metadata": {},
   "source": [
    "#### 45. How to find the ROOT word of any word in a sentence?\n",
    "Difficulty Level : L3\n",
    "\n",
    "Q. Find and print the root word / headword of any word in the given sentence"
   ]
  },
  {
   "cell_type": "code",
   "execution_count": null,
   "metadata": {},
   "outputs": [],
   "source": [
    "text=\"Mark plays volleyball. Sam is not into sports, he paints a lot\""
   ]
  },
  {
   "cell_type": "markdown",
   "metadata": {},
   "source": [
    "Desired Output :\n",
    "```\n",
    " Mark plays\n",
    " plays plays\n",
    " volleyball plays\n",
    " . plays\n",
    " Sam is\n",
    " is paints\n",
    " not is\n",
    " into is\n",
    " sports into\n",
    " , paints\n",
    " he paints\n",
    " paints paints\n",
    " a lot\n",
    " lot paints\n",
    "```"
   ]
  },
  {
   "cell_type": "code",
   "execution_count": null,
   "metadata": {},
   "outputs": [],
   "source": [
    "import spacy\n",
    "nlp=spacy.load(\"en_core_web_sm\")\n",
    "# use the head attribute of tokens to find it's rootword\n",
    "doc=nlp(text)\n",
    "for token in doc:\n",
    "  print(token.text,token.head)"
   ]
  },
  {
   "cell_type": "markdown",
   "metadata": {},
   "source": [
    "#### 46. How to visualize the dependency tree in spaCy\n",
    "Difficulty Level : L2\n",
    "\n",
    "Q. Visualize the dependencies of various tokens of the given text using spaCy"
   ]
  },
  {
   "cell_type": "code",
   "execution_count": null,
   "metadata": {},
   "outputs": [],
   "source": [
    "text=\"Mark plays volleyball. Sam is not into sports, he paints a lot\""
   ]
  },
  {
   "attachments": {
    "image.png": {
     "image/png": "[encoded data removed]"
    }
   },
   "cell_type": "markdown",
   "metadata": {},
   "source": [
    "Expected Output:\n",
    "\n",
    "![image.png](attachment:image.png)"
   ]
  },
  {
   "cell_type": "code",
   "execution_count": null,
   "metadata": {},
   "outputs": [],
   "source": [
    "import spacy\n",
    "nlp=spacy.load(\"en_core_web_sm\")\n",
    "# Use spacy's displacy with the parameter style=\"dep\"\n",
    "doc=nlp(text)\n",
    "\n",
    "from spacy import displacy\n",
    "displacy.render(doc,style='dep',jupyter=True)"
   ]
  },
  {
   "cell_type": "markdown",
   "metadata": {},
   "source": [
    "#### 47. How to detect all the Laptop names present in the text ?\n",
    "Difficulty Level : L4\n",
    "\n",
    "Q. Detect all the Laptop names present in the given document ."
   ]
  },
  {
   "cell_type": "code",
   "execution_count": null,
   "metadata": {},
   "outputs": [],
   "source": [
    "text=\"For my offical use, I prefer lenova. For gaming purposes, I love asus\""
   ]
  },
  {
   "cell_type": "markdown",
   "metadata": {},
   "source": [
    "Expected Output:\n",
    "```\n",
    "lenova laptop\n",
    "asus laptop\n",
    "```"
   ]
  },
  {
   "cell_type": "code",
   "execution_count": null,
   "metadata": {},
   "outputs": [],
   "source": [
    "# Import EntityRuler of spacy model\n",
    "import spacy\n",
    "nlp=spacy.load(\"en_core_web_sm\")\n",
    "\n",
    "# Functions to create patterns of laptop name to match\n",
    "def create_versioned(name):\n",
    "    return [\n",
    "        [{'LOWER': name}], \n",
    "        [{'LOWER': {'REGEX': f'({name}\\d+\\.?\\d*.?\\d*)'}}], \n",
    "        [{'LOWER': name}, {'TEXT': {'REGEX': '(\\d+\\.?\\d*.?\\d*)'}}]]\n",
    "\n",
    "def create_patterns():\n",
    "    versioned_languages = ['dell', 'HP', 'asus','msi','Apple','HCL','sony','samsung','lenova','acer']\n",
    "    flatten = lambda l: [item for sublist in l for item in sublist]\n",
    "    versioned_patterns = flatten([create_versioned(lang) for lang in versioned_languages])\n",
    "\n",
    "    lang_patterns = [\n",
    "        [{'LOWER': 'dell'}, {'LIKE_NUM': True}],\n",
    "        [{'LOWER': 'HP'}],\n",
    "        [{'LOWER': 'asus'}, {'LOWER': '#'}],\n",
    "        [{'LOWER': 'msi'}, {'LOWER': 'sharp'}],\n",
    "        [{'LOWER': 'Apple'}],\n",
    "        [{'LOWER': 'HCL'}, {'LOWER': '#'}],\n",
    "        [{'LOWER': 'sony'}],\n",
    "        [{'LOWER': 'samsung'}],\n",
    "        [{'LOWER': 'toshiba'}],\n",
    "        [{'LOWER': 'dell'},{'LOWER': 'inspiron'}],\n",
    "        [{'LOWER': 'acer'},{'IS_PUNCT': True, 'OP': '?'},{'LOWER': 'c'}],\n",
    "        [{'LOWER': 'golang'}],\n",
    "        [{'LOWER': 'lenova'}],\n",
    "        [{'LOWER': 'HP'},{'LOWER':'gaming'}],\n",
    "        [{'LOWER': 'Fujitsu'}],\n",
    "        [{'LOWER': 'micromax'}],\n",
    "    ]\n",
    "\n",
    "    return versioned_patterns + lang_patterns\n",
    "\n",
    "# Add the Entity Ruler to the pipeline\n",
    "from spacy.pipeline import EntityRuler\n",
    "ruler = nlp.add_pipe(\"entity_ruler\")\n",
    "ruler.add_patterns([{'label':'laptop','pattern':p} for p in create_patterns()])\n",
    "\n",
    "# Identify the car names now\n",
    "doc=nlp(\"For my offical use, I prefer lenova. For gaming purposes, I love asus\")\n",
    "for ent in doc.ents:\n",
    "  print(ent.text,ent.label_)"
   ]
  },
  {
   "cell_type": "markdown",
   "metadata": {},
   "source": [
    "#### 48. How to summarize text using gensim ?\n",
    "Difficulty Level : L3\n",
    "\n",
    "Q. Extract the summary of the given text based using gensim package based on the TextRank Algorithm."
   ]
  },
  {
   "cell_type": "code",
   "execution_count": null,
   "metadata": {},
   "outputs": [],
   "source": [
    "original_text=\"\"\"Studies show that exercise can treat mild to moderate depression as effectively as antidepressant medication—but without the side-effects, of course. As one example, a recent study done by the Harvard T.H. Chan School of Public Health found that running for 15 minutes a day or walking for an hour reduces the risk of major depression by 26%. In addition to relieving depression symptoms, research also shows that maintaining an exercise schedule can prevent you from relapsing.\n",
    "Exercise is a powerful depression fighter for several reasons. Most importantly, it promotes all kinds of changes in the brain, including neural growth, reduced inflammation, and new activity patterns that promote feelings of calm and well-being. It also releases endorphins, powerful chemicals in your brain that energize your spirits and make you feel good. Finally, exercise can also serve as a distraction, allowing you to find some quiet time to break out of the cycle of negative thoughts that feed depression.\n",
    "Exercise is not just about aerobic capacity and muscle size. Sure, exercise can improve your physical health and your physique, trim your waistline, improve your sex life, and even add years to your life. But that’s not what motivates most people to stay active.\n",
    "People who exercise regularly tend to do so because it gives them an enormous sense of well-being. They feel more energetic throughout the day, sleep better at night, have sharper memories, and feel more relaxed and positive about themselves and their lives. And it’s also powerful medicine for many common mental health challenges.\n",
    "Regular exercise can have a profoundly positive impact on depression, anxiety, ADHD, and more. It also relieves stress, improves memory, helps you sleep better, and boosts your overall mood. And you don’t have to be a fitness fanatic to reap the benefits. Research indicates that modest amounts of exercise can make a difference. No matter your age or fitness level, you can learn to use exercise as a powerful tool to feel better.\n",
    "Ever noticed how your body feels when you’re under stress? Your muscles may be tense, especially in your face, neck, and shoulders, leaving you with back or neck pain, or painful headaches. You may feel a tightness in your chest, a pounding pulse, or muscle cramps. You may also experience problems such as insomnia, heartburn, stomachache, diarrhea, or frequent urination. The worry and discomfort of all these physical symptoms can in turn lead to even more stress, creating a vicious cycle between your mind and body.\n",
    "Exercising is an effective way to break this cycle. As well as releasing endorphins in the brain, physical activity helps to relax the muscles and relieve tension in the body. Since the body and mind are so closely linked, when your body feels better so, too, will your mind.Evidence suggests that by really focusing on your body and how it feels as you exercise, you can actually help your nervous system become “unstuck” and begin to move out of the immobilization stress response that characterizes PTSD or trauma. \n",
    "Instead of allowing your mind to wander, pay close attention to the physical sensations in your joints and muscles, even your insides as your body moves. Exercises that involve cross movement and that engage both arms and legs—such as walking (especially in sand), running, swimming, weight training, or dancing—are some of your best choices.\n",
    "Outdoor activities like hiking, sailing, mountain biking, rock climbing, whitewater rafting, and skiing (downhill and cross-country) have also been shown to reduce the symptoms of PTSD.\"\"\""
   ]
  },
  {
   "cell_type": "markdown",
   "metadata": {},
   "source": [
    "Desired Output :\n",
    "```\n",
    " As one example, a recent study done by the Harvard T.H. Chan School of Public Health found that running for 15 minutes a day or walking for an hour reduces the risk of major depression by 26%.\n",
    " No matter your age or fitness level, you can learn to use exercise as a powerful tool to feel better.\n",
    " The worry and discomfort of all these physical symptoms can in turn lead to even more stress, creating a vicious cycle between your mind and body.\n",
    " As well as releasing endorphins in the brain, physical activity helps to relax the muscles and relieve tension in the body.\n",
    "```"
   ]
  },
  {
   "cell_type": "code",
   "execution_count": null,
   "metadata": {},
   "outputs": [],
   "source": [
    "# Importing the summarize function from gensim module\n",
    "# Cannot use with gensim version > 3.6.0, need to install gensim==3.6.0\n",
    "%pip install gensim==3.6.0\n",
    "import gensim\n",
    "from gensim.summarization.summarizer import summarize\n",
    "\n",
    "# Pass the document along with desired word count to get the summary\n",
    "my_summary=summarize(original_text,word_count=100)\n",
    "print(my_summary)"
   ]
  },
  {
   "cell_type": "markdown",
   "metadata": {},
   "source": [
    "#### 49. How to summarize text based on the LexRank algorithm ?\n",
    "Difficulty Level : L3\n",
    "\n",
    "Q. Extract the summary of the given text based on the TextRank Algorithm."
   ]
  },
  {
   "cell_type": "code",
   "execution_count": null,
   "metadata": {},
   "outputs": [],
   "source": [
    "original_text=\"\"\"Studies show that exercise can treat mild to moderate depression as effectively as antidepressant medication—but without the side-effects, of course. As one example, a recent study done by the Harvard T.H. Chan School of Public Health found that running for 15 minutes a day or walking for an hour reduces the risk of major depression by 26%. In addition to relieving depression symptoms, research also shows that maintaining an exercise schedule can prevent you from relapsing.\n",
    "Exercise is a powerful depression fighter for several reasons. Most importantly, it promotes all kinds of changes in the brain, including neural growth, reduced inflammation, and new activity patterns that promote feelings of calm and well-being. It also releases endorphins, powerful chemicals in your brain that energize your spirits and make you feel good. Finally, exercise can also serve as a distraction, allowing you to find some quiet time to break out of the cycle of negative thoughts that feed depression.\n",
    "Exercise is not just about aerobic capacity and muscle size. Sure, exercise can improve your physical health and your physique, trim your waistline, improve your sex life, and even add years to your life. But that’s not what motivates most people to stay active.\n",
    "People who exercise regularly tend to do so because it gives them an enormous sense of well-being. They feel more energetic throughout the day, sleep better at night, have sharper memories, and feel more relaxed and positive about themselves and their lives. And it’s also powerful medicine for many common mental health challenges.\n",
    "Regular exercise can have a profoundly positive impact on depression, anxiety, ADHD, and more. It also relieves stress, improves memory, helps you sleep better, and boosts your overall mood. And you don’t have to be a fitness fanatic to reap the benefits. Research indicates that modest amounts of exercise can make a difference. No matter your age or fitness level, you can learn to use exercise as a powerful tool to feel better.\n",
    "Ever noticed how your body feels when you’re under stress? Your muscles may be tense, especially in your face, neck, and shoulders, leaving you with back or neck pain, or painful headaches. You may feel a tightness in your chest, a pounding pulse, or muscle cramps. You may also experience problems such as insomnia, heartburn, stomachache, diarrhea, or frequent urination. The worry and discomfort of all these physical symptoms can in turn lead to even more stress, creating a vicious cycle between your mind and body.\n",
    "Exercising is an effective way to break this cycle. As well as releasing endorphins in the brain, physical activity helps to relax the muscles and relieve tension in the body. Since the body and mind are so closely linked, when your body feels better so, too, will your mind.Evidence suggests that by really focusing on your body and how it feels as you exercise, you can actually help your nervous system become “unstuck” and begin to move out of the immobilization stress response that characterizes PTSD or trauma. \n",
    "Instead of allowing your mind to wander, pay close attention to the physical sensations in your joints and muscles, even your insides as your body moves. Exercises that involve cross movement and that engage both arms and legs—such as walking (especially in sand), running, swimming, weight training, or dancing—are some of your best choices.\n",
    "Outdoor activities like hiking, sailing, mountain biking, rock climbing, whitewater rafting, and skiing (downhill and cross-country) have also been shown to reduce the symptoms of PTSD.\"\"\""
   ]
  },
  {
   "cell_type": "markdown",
   "metadata": {},
   "source": [
    "Desired Output :\n",
    "```\n",
    " Since the body and mind are so closely linked, when your body feels better so, too, will your mind.Evidence suggests that by really focusing on your body and how it feels as you exercise, you can actually help your nervous system become “unstuck” and begin to move out of the immobilization stress response that characterizes PTSD or trauma.>, <Sentence: Instead of allowing your mind to wander, pay close attention to the physical sensations in your joints and muscles, even your insides as your body moves.\n",
    "```"
   ]
  },
  {
   "cell_type": "code",
   "execution_count": null,
   "metadata": {},
   "outputs": [],
   "source": [
    "from sumy.summarizers.lex_rank import LexRankSummarizer\n",
    "\n",
    "#Plain text parsers since we are parsing through text\n",
    "from sumy.parsers.plaintext import PlaintextParser\n",
    "from sumy.nlp.tokenizers import Tokenizer\n",
    "\n",
    "parser=PlaintextParser.from_string(original_text,Tokenizer(\"english\"))\n",
    "\n",
    "summarizer=LexRankSummarizer()\n",
    "my_summary=summarizer(parser.document,2)\n",
    "print(my_summary)"
   ]
  },
  {
   "cell_type": "markdown",
   "metadata": {},
   "source": [
    "#### 50. How to summarize text using Luhn algorithm?\n",
    "Q. Extract the summary of the given text based on the Luhn Algorithm.\n",
    "\n",
    "Difficulty Level : L3"
   ]
  },
  {
   "cell_type": "code",
   "execution_count": null,
   "metadata": {},
   "outputs": [],
   "source": [
    "original_text=\"\"\"Studies show that exercise can treat mild to moderate depression as effectively as antidepressant medication—but without the side-effects, of course. As one example, a recent study done by the Harvard T.H. Chan School of Public Health found that running for 15 minutes a day or walking for an hour reduces the risk of major depression by 26%. In addition to relieving depression symptoms, research also shows that maintaining an exercise schedule can prevent you from relapsing.\n",
    "Exercise is a powerful depression fighter for several reasons. Most importantly, it promotes all kinds of changes in the brain, including neural growth, reduced inflammation, and new activity patterns that promote feelings of calm and well-being. It also releases endorphins, powerful chemicals in your brain that energize your spirits and make you feel good. Finally, exercise can also serve as a distraction, allowing you to find some quiet time to break out of the cycle of negative thoughts that feed depression.\n",
    "Exercise is not just about aerobic capacity and muscle size. Sure, exercise can improve your physical health and your physique, trim your waistline, and even add years to your life. But that’s not what motivates most people to stay active.\n",
    "People who exercise regularly tend to do so because it gives them an enormous sense of well-being. They feel more energetic throughout the day, sleep better at night, have sharper memories, and feel more relaxed and positive about themselves and their lives. And it’s also powerful medicine for many common mental health challenges.\n",
    "Regular exercise can have a profoundly positive impact on depression, anxiety, ADHD, and more. It also relieves stress, improves memory, helps you sleep better, and boosts your overall mood. And you don’t have to be a fitness fanatic to reap the benefits. Research indicates that modest amounts of exercise can make a difference. No matter your age or fitness level, you can learn to use exercise as a powerful tool to feel better.\n",
    "Ever noticed how your body feels when you’re under stress? Your muscles may be tense, especially in your face, neck, and shoulders, leaving you with back or neck pain, or painful headaches. You may feel a tightness in your chest, a pounding pulse, or muscle cramps. You may also experience problems such as insomnia, heartburn, stomachache, diarrhea, or frequent urination. The worry and discomfort of all these physical symptoms can in turn lead to even more stress, creating a vicious cycle between your mind and body.\n",
    "Exercising is an effective way to break this cycle. As well as releasing endorphins in the brain, physical activity helps to relax the muscles and relieve tension in the body. Since the body and mind are so closely linked, when your body feels better so, too, will your mind.Evidence suggests that by really focusing on your body and how it feels as you exercise, you can actually help your nervous system become “unstuck” and begin to move out of the immobilization stress response that characterizes PTSD or trauma. \n",
    "Instead of allowing your mind to wander, pay close attention to the physical sensations in your joints and muscles, even your insides as your body moves. Exercises that involve cross movement and that engage both arms and legs—such as walking (especially in sand), running, swimming, weight training, or dancing—are some of your best choices.\n",
    "Outdoor activities like hiking, sailing, mountain biking, rock climbing, whitewater rafting, and skiing (downhill and cross-country) have also been shown to reduce the symptoms of PTSD.\"\"\""
   ]
  },
  {
   "cell_type": "markdown",
   "metadata": {},
   "source": [
    "Desired Output :\n",
    "```\n",
    "  Finally, exercise can also serve as a distraction, allowing you to find some quiet time to break out of the cycle of negative thoughts that feed depression.  Since the body and mind are so closely linked, when your body feels better so, too, will your mind.Evidence suggests that by really focusing on your body and how it feels as you exercise, you can actually help your nervous system become “unstuck” and begin to move out of the immobilization stress response that characterizes PTSD or trauma\n",
    "```"
   ]
  },
  {
   "cell_type": "code",
   "execution_count": null,
   "metadata": {},
   "outputs": [],
   "source": [
    "from sumy.summarizers.luhn import LuhnSummarizer\n",
    "\n",
    "#Plain text parsers since we are parsing through text\n",
    "from sumy.parsers.plaintext import PlaintextParser\n",
    "from sumy.nlp.tokenizers import Tokenizer\n",
    "\n",
    "parser=PlaintextParser.from_string(original_text,Tokenizer(\"english\"))\n",
    "\n",
    "summarizer=LuhnSummarizer()\n",
    "my_summary=summarizer(parser.document,2)\n",
    "print(my_summary)"
   ]
  },
  {
   "cell_type": "markdown",
   "metadata": {},
   "source": [
    "#### 51. How to summarize text based on LSA algorithm ?\n",
    "Difficulty Level : L3\n",
    "\n",
    "Q. Extract the summary of the given text based on the LSA Algorithm."
   ]
  },
  {
   "cell_type": "code",
   "execution_count": null,
   "metadata": {},
   "outputs": [],
   "source": [
    "original_text=\"\"\"Studies show that exercise can treat mild to moderate depression as effectively as antidepressant medication—but without the side-effects, of course. As one example, a recent study done by the Harvard T.H. Chan School of Public Health found that running for 15 minutes a day or walking for an hour reduces the risk of major depression by 26%. In addition to relieving depression symptoms, research also shows that maintaining an exercise schedule can prevent you from relapsing.\n",
    "Exercise is a powerful depression fighter for several reasons. Most importantly, it promotes all kinds of changes in the brain, including neural growth, reduced inflammation, and new activity patterns that promote feelings of calm and well-being. It also releases endorphins, powerful chemicals in your brain that energize your spirits and make you feel good. Finally, exercise can also serve as a distraction, allowing you to find some quiet time to break out of the cycle of negative thoughts that feed depression.\n",
    "Exercise is not just about aerobic capacity and muscle size. Sure, exercise can improve your physical health and your physique, trim your waistline, and even add years to your life. But that’s not what motivates most people to stay active.\n",
    "People who exercise regularly tend to do so because it gives them an enormous sense of well-being. They feel more energetic throughout the day, sleep better at night, have sharper memories, and feel more relaxed and positive about themselves and their lives. And it’s also powerful medicine for many common mental health challenges.\n",
    "Regular exercise can have a profoundly positive impact on depression, anxiety, ADHD, and more. It also relieves stress, improves memory, helps you sleep better, and boosts your overall mood. And you don’t have to be a fitness fanatic to reap the benefits. Research indicates that modest amounts of exercise can make a difference. No matter your age or fitness level, you can learn to use exercise as a powerful tool to feel better.\n",
    "Ever noticed how your body feels when you’re under stress? Your muscles may be tense, especially in your face, neck, and shoulders, leaving you with back or neck pain, or painful headaches. You may feel a tightness in your chest, a pounding pulse, or muscle cramps. You may also experience problems such as insomnia, heartburn, stomachache, diarrhea, or frequent urination. The worry and discomfort of all these physical symptoms can in turn lead to even more stress, creating a vicious cycle between your mind and body.\n",
    "Exercising is an effective way to break this cycle. As well as releasing endorphins in the brain, physical activity helps to relax the muscles and relieve tension in the body. Since the body and mind are so closely linked, when your body feels better so, too, will your mind.Evidence suggests that by really focusing on your body and how it feels as you exercise, you can actually help your nervous system become “unstuck” and begin to move out of the immobilization stress response that characterizes PTSD or trauma. \n",
    "Instead of allowing your mind to wander, pay close attention to the physical sensations in your joints and muscles, even your insides as your body moves. Exercises that involve cross movement and that engage both arms and legs—such as walking (especially in sand), running, swimming, weight training, or dancing—are some of your best choices.\n",
    "Outdoor activities like hiking, sailing, mountain biking, rock climbing, whitewater rafting, and skiing (downhill and cross-country) have also been shown to reduce the symptoms of PTSD.\"\"\""
   ]
  },
  {
   "cell_type": "markdown",
   "metadata": {},
   "source": [
    "Desired Output :\n",
    "```\n",
    "In addition to relieving depression symptoms, research also shows that maintaining an exercise schedule can prevent you from relapsing. People who exercise regularly tend to do so because it gives them an enormous sense of well-being.\n",
    "```"
   ]
  },
  {
   "cell_type": "code",
   "execution_count": null,
   "metadata": {},
   "outputs": [],
   "source": [
    "from sumy.summarizers.lsa import LsaSummarizer\n",
    "\n",
    "#Plain text parsers since we are parsing through text\n",
    "from sumy.parsers.plaintext import PlaintextParser\n",
    "from sumy.nlp.tokenizers import Tokenizer\n",
    "\n",
    "parser=PlaintextParser.from_string(original_text,Tokenizer(\"english\"))\n",
    "\n",
    "summarizer=LsaSummarizer()\n",
    "my_summary=summarizer(parser.document,2)\n",
    "print(my_summary)"
   ]
  },
  {
   "cell_type": "markdown",
   "metadata": {},
   "source": [
    "#### 52. How to convert documents into json format ?\n",
    "Difficulty Level : L3\n",
    "\n",
    "Q. Covert the given text documents into json format for spacy usage"
   ]
  },
  {
   "cell_type": "code",
   "execution_count": null,
   "metadata": {},
   "outputs": [],
   "source": [
    "text1=\"Netflix has released a new series\"\n",
    "text2=\"It was shot in London\"\n",
    "text3=\"It is called Dark and the main character is Jonas\"\n",
    "text4=\"Adam is the evil character\""
   ]
  },
  {
   "cell_type": "markdown",
   "metadata": {},
   "source": [
    "Desired Output :\n",
    "```\n",
    "{'id': 0,\n",
    " 'paragraphs': [{'cats': [],\n",
    "   'raw': 'Netflix has released a new series',\n",
    "   'sentences': [{'brackets': [],\n",
    "     'tokens': [{'dep': 'nsubj',\n",
    "       'head': 2,\n",
    "       'id': 0,\n",
    "       'ner': 'U-ORG',\n",
    "       'orth': 'Netflix',\n",
    "       'tag': 'NNP'},\n",
    "      {'dep': 'aux',\n",
    "       'head': 1,\n",
    "       'id': 1,\n",
    "       'ner': 'O',\n",
    "       'orth': 'has',\n",
    "       'tag': 'VBZ'},\n",
    "      {'dep': 'ROOT',\n",
    "       'head': 0,\n",
    "       'id': 2,\n",
    "       'ner': 'O',\n",
    "       'orth': 'released',\n",
    "       'tag': 'VBN'},\n",
    "      {'dep': 'det', 'head': 2, 'id': 3, 'ner': 'O', 'orth': 'a', 'tag': 'DT'},\n",
    "      {'dep': 'amod',\n",
    "       'head': 1,\n",
    "       'id': 4,\n",
    "       'ner': 'O',\n",
    "       'orth': 'new',\n",
    "       'tag': 'JJ'},\n",
    "      {'dep': 'dobj',\n",
    "       'head': -3,\n",
    "       'id': 5,\n",
    "       'ner': 'O',\n",
    "       'orth': 'series',\n",
    "       'tag': 'NN'}]}]},\n",
    "    ...(truncated)\n",
    "```"
   ]
  },
  {
   "cell_type": "code",
   "execution_count": null,
   "metadata": {},
   "outputs": [],
   "source": [
    "import spacy\n",
    "nlp=spacy.load(\"en_core_web_sm\")\n",
    "\n",
    "# Covert into spacy documents\n",
    "doc1=nlp(text1)\n",
    "doc2=nlp(text2)\n",
    "doc3=nlp(text3)\n",
    "doc4=nlp(text4)\n",
    "\n",
    "# Import docs_to_json\n",
    "# spacy.gold.docs_to_json is depricated. Cannot use with current version\n",
    "# from spacy.gold import docs_to_json\n",
    "from spacy.tokens import Doc\n",
    "\n",
    "import json\n",
    "formatt = json.dumps(doc1.to_json(), indent=2)\n",
    "print(formatt)"
   ]
  },
  {
   "cell_type": "markdown",
   "metadata": {},
   "source": [
    "#### 53. How to build a text classifier with TextBlob ?\n",
    "Difficulty Level : L3\n",
    "\n",
    "Q Build a text classifier with available train data using textblob library"
   ]
  },
  {
   "cell_type": "code",
   "execution_count": null,
   "metadata": {},
   "outputs": [],
   "source": [
    "# Data to train the classifier\n",
    "train = [\n",
    "    ('I love eating sushi','food-review'),\n",
    "    ('This is an amazing place!', 'Tourist-review'),\n",
    "    ('Pizza is my all time favorite food','food-review'),\n",
    "    ('I baked a cake yesterday, it was tasty', 'food-review'),\n",
    "    (\"What an awesome taste this sushi has\", 'food-review'),\n",
    "    ('It is a perfect place for outing', 'Tourist-review'),\n",
    "    ('This is a nice picnic spot', 'Tourist-review'),\n",
    "    (\"Families come out on tours here\", 'Tourist-review'),\n",
    "    ('It is a beautiful place !', 'Tourist-review'),\n",
    "    ('The place was warm and nice', 'Tourist-review')\n",
    "]\n",
    "test = [\n",
    "    ('The sushi was good', 'food-review'),\n",
    "    ('The place was perfect for picnics ', 'Tourist-review'),\n",
    "    (\"Burgers are my favorite food\", 'food-review'),\n",
    "    (\"I feel amazing!\", 'food-review'),\n",
    "    ('It is an amazing place', 'Tourist-review'),\n",
    "    (\"This isn't a very good place\", 'Tourist-review')\n",
    "]"
   ]
  },
  {
   "cell_type": "markdown",
   "metadata": {},
   "source": [
    "Desired Output :\n",
    "```\n",
    "Accuracy: 0.8333333333333334\n",
    "```"
   ]
  },
  {
   "cell_type": "code",
   "execution_count": null,
   "metadata": {},
   "outputs": [],
   "source": [
    "# Importing the classifier\n",
    "from textblob.classifiers import NaiveBayesClassifier\n",
    "from textblob import TextBlob\n",
    "\n",
    "# Training\n",
    "cl = NaiveBayesClassifier(train)\n",
    "\n",
    "# Classify some text\n",
    "print(cl.classify(\"My favorite food is spring rolls\"))  \n",
    "print(cl.classify(\"It was a cold place for picnic\"))  \n",
    "\n",
    "# Printing accuracy of classifier\n",
    "print(\"Accuracy: {0}\".format(cl.accuracy(test)))"
   ]
  },
  {
   "cell_type": "markdown",
   "metadata": {},
   "source": [
    "#### 54. How to train a text classifier using Simple transformers ?\n",
    "Difficulty Level : L4\n",
    "\n",
    "Q. Build and train a text classifier for the given data using simpletransformers library"
   ]
  },
  {
   "cell_type": "code",
   "execution_count": null,
   "metadata": {},
   "outputs": [],
   "source": [
    "train_data = [\n",
    "    [\"The movie was amazing\", 1],\n",
    "    [\"It was a boring movie\", 0],\n",
    "    [\"I had a great experience\",1],\n",
    "    [\"I was bored during the movie\",0],\n",
    "    [\"The movie was great\",1],\n",
    "    [\"The movie was bad\",0],\n",
    "    [\"The movie was good\",1]\n",
    "]"
   ]
  },
  {
   "cell_type": "code",
   "execution_count": null,
   "metadata": {},
   "outputs": [],
   "source": [
    "# Import requirements\n",
    "from simpletransformers.classification import ClassificationModel, ClassificationArgs\n",
    "import pandas as pd\n",
    "import logging\n",
    "\n",
    "\n",
    "logging.basicConfig(level=logging.INFO)\n",
    "transformers_logger = logging.getLogger(\"transformers\")\n",
    "transformers_logger.setLevel(logging.WARNING)\n",
    "\n",
    "# Preparing train data\n",
    "\n",
    "train_df = pd.DataFrame(train_data)\n",
    "train_df.columns = [\"text\", \"labels\"]\n",
    "\n",
    "# Optional model configuration\n",
    "model_args = ClassificationArgs(num_train_epochs=5)\n",
    "\n",
    "# Create a ClassificationModel\n",
    "model = ClassificationModel(\"bert\", \"bert-base-uncased\", args=model_args,use_cuda=False)\n",
    "\n",
    "# Train the model\n",
    "model.train_model(train_df)\n",
    "\n",
    "\n",
    "# Make predictions with the model\n",
    "predictions, raw_outputs = model.predict([\"The titanic was a good movie\"])\n",
    "\n",
    "predictions"
   ]
  },
  {
   "cell_type": "markdown",
   "metadata": {},
   "source": [
    "#### 55. How to perform text classification using spaCy ?\n",
    "Difficulty Level : L4\n",
    "\n",
    "Q. Build a text classifier using spacy that can classify IMDB reviews as positive or negative"
   ]
  },
  {
   "cell_type": "code",
   "execution_count": null,
   "metadata": {},
   "outputs": [],
   "source": [
    "# # NOT WORKING\n",
    "# import spacy\n",
    "# nlp=spacy.load(\"en_core_web_sm\")\n",
    "\n",
    "\n",
    "# textcat = nlp.create_pipe(\"textcat\", config={\"exclusive_classes\": True, \"architecture\": \"simple_cnn\"})\n",
    "# nlp.add_pipe(textcat, last=True)\n",
    "# textcat = nlp.get_pipe(\"textcat\")\n",
    "\n",
    "# # add label to text classifier\n",
    "# textcat.add_label(\"POSITIVE\")\n",
    "# textcat.add_label(\"NEGATIVE\")\n",
    "\n",
    "\n",
    "# def load_data(limit=0, split=0.8):\n",
    "#     \"\"\"Load data from the IMDB dataset.\"\"\"\n",
    "#     # Partition off part of the train data for evaluation\n",
    "#     train_data, _ = thinc.extra.datasets.imdb()\n",
    "#     random.shuffle(train_data)\n",
    "#     train_data = train_data[-limit:]\n",
    "#     texts, labels = zip(*train_data)\n",
    "#     cats = [{\"POSITIVE\": bool(y), \"NEGATIVE\": not bool(y)} for y in labels]\n",
    "#     split = int(len(train_data) * split)\n",
    "#     return (texts[:split], cats[:split]), (texts[split:], cats[split:])\n",
    "\n",
    "\n",
    "# # load the IMDB dataset\n",
    "# print(\"Loading IMDB data...\")\n",
    "# (train_texts, train_cats), (dev_texts, dev_cats) = load_data()\n",
    "# train_texts = train_texts[:n_texts]\n",
    "# train_cats = train_cats[:n_texts]\n",
    "    \n",
    "# train_data = list(zip(train_texts, [{\"cats\": cats} for cats in train_cats]))\n",
    "\n",
    "# # get names of other pipes to disable them during training\n",
    "# pipe_exceptions = [\"textcat\", \"trf_wordpiecer\", \"trf_tok2vec\"]\n",
    "# other_pipes = [pipe for pipe in nlp.pipe_names if pipe not in pipe_exceptions]\n",
    "\n",
    "# # Training the text classifier\n",
    "# with nlp.disable_pipes(*other_pipes):  # only train textcat\n",
    "#    optimizer = nlp.begin_training()\n",
    "#    if init_tok2vec is not None:\n",
    "#       with init_tok2vec.open(\"rb\") as file_:\n",
    "#         textcat.model.tok2vec.from_bytes(file_.read())\n",
    "#         print(\"Training the model...\")\n",
    "#         print(\"{:^5}\\t{:^5}\\t{:^5}\\t{:^5}\".format(\"LOSS\", \"P\", \"R\", \"F\"))\n",
    "#         batch_sizes = compounding(4.0, 32.0, 1.001)\n",
    "#         for i in range(n_iter):\n",
    "#             losses = {}\n",
    "#             # batch up the examples using spaCy's minibatch\n",
    "#             random.shuffle(train_data)\n",
    "#             batches = minibatch(train_data, size=batch_sizes)\n",
    "#             for batch in batches:\n",
    "#                 texts, annotations = zip(*batch)\n",
    "#                 nlp.update(texts, annotations, sgd=optimizer, drop=0.2, losses=losses)"
   ]
  },
  {
   "cell_type": "markdown",
   "metadata": {},
   "source": [
    "#### 56. How to translate the text (using simpletransformers) ?\n",
    "Difficulty Level : L3\n",
    "\n",
    "Q. Translate the given list of texts from English to Dutch using simpletransformers package"
   ]
  },
  {
   "cell_type": "code",
   "execution_count": null,
   "metadata": {},
   "outputs": [],
   "source": [
    "['Our experienced writers travel the world to bring you informative and inspirational features, destination roundups, travel ideas, tips and beautiful photos in order to help you plan your next holiday',\n",
    "                  'Each part of Germany is different, and there are thousands of memorable places to visit.',\n",
    "                  \"Christmas Markets originated in Germany, and the tradition dates to the Late Middle Ages.\",\n",
    "                  \"Garmisch-Partenkirchen is a small town in Bavaria, near Germany’s highest mountain Zugspitze, which rises to 9,718 feet (2,962 meters)\",\n",
    "                  \"It’s one of the country’s top alpine destinations, extremely popular during the winter\",\n",
    "                  \"In spring, take a road trip through Bavaria and enjoy the view of the dark green Alps and the first alpine wildflowers. \"]"
   ]
  },
  {
   "cell_type": "markdown",
   "metadata": {},
   "source": [
    "Desired Output :\n",
    "```\n",
    "['Unsere erfahrenen Autoren reisen die Welt, um Ihnen informative und inspirierende Funktionen, Destination Rund',\n",
    "'Jeder Teil Deutschlands ist anders, und es gibt Tausende von denkwürdigen Orten zu besuchen.',\n",
    "'Weihnachtsmärkte entstanden in Deutschland, und die Tradition stammt aus dem späten Mittelalter.',\n",
    "'Garmisch-Partenkirchen ist eine kleine Stadt in Bayern, nahe Deutschland.Die Zug',\n",
    "'Es ist eines der Top-Alpenziele des Landes, sehr beliebt im Winter',\n",
    "'Im Frühjahr machen Sie eine Roadtrip durch Bayern und genießen den Blick auf die dunkelgrünen Alpen']\n",
    "```"
   ]
  },
  {
   "cell_type": "code",
   "execution_count": null,
   "metadata": {},
   "outputs": [],
   "source": [
    "# Import the model\n",
    "from simpletransformers.seq2seq import Seq2SeqModel\n",
    "\n",
    "# Setting desired arguments\n",
    "my_args = {    \"train_batch_size\": 2,\n",
    "               \"num_train_epochs\": 10,\n",
    "               \"save_eval_checkpoints\": False,\n",
    "               \"save_model_every_epoch\": False,\n",
    "               \"evaluate_during_training\": True,\n",
    "               \"evaluate_generated_text\": True   }\n",
    "\n",
    "# Instantiating the model\n",
    "my_model=Seq2SeqModel(encoder_decoder_name=\"Helsinki-NLP/opus-mt-en-de\",encoder_decoder_type=\"marian\",args=my_args,use_cuda=False)\n",
    "\n",
    "\n",
    "# translating the text\n",
    "\n",
    "my_model.predict(['Our experienced writers travel the world to bring you informative and inspirational features, destination roundups, travel ideas, tips and beautiful photos in order to help you plan your next holiday',\n",
    "                  'Each part of Germany is different, and there are thousands of memorable places to visit.',\n",
    "                  \"Christmas Markets originated in Germany, and the tradition dates to the Late Middle Ages.\",\n",
    "                  \"Garmisch-Partenkirchen is a small town in Bavaria, near Germany’s highest mountain Zugspitze, which rises to 9,718 feet (2,962 meters)\",\n",
    "                  \"It’s one of the country’s top alpine destinations, extremely popular during the winter\",\n",
    "                  \"In spring, take a road trip through Bavaria and enjoy the view of the dark green Alps and the first alpine wildflowers. \"])"
   ]
  },
  {
   "cell_type": "markdown",
   "metadata": {},
   "source": [
    "#### 57. How to create a Question-Answering system from given context\n",
    "Difficulty Level : L4\n",
    "\n",
    "Q. Build a Question Answering model that answers questions from the given context using transformers package"
   ]
  },
  {
   "cell_type": "code",
   "execution_count": null,
   "metadata": {},
   "outputs": [],
   "source": [
    "context=\"\"\" Harry Potter is the best book series according to many people. Harry Potter was written by JK.Rowling .\n",
    "It is afantasy based novel that provides a thrilling experience to readers.\"\"\"\n",
    "\n",
    "question=\"What is Harry Potter ?\""
   ]
  },
  {
   "cell_type": "markdown",
   "metadata": {},
   "source": [
    "Desired Output :\n",
    "```\n",
    "{'score': 0.2375375191101107, 'start': 17, 'end': 37, 'answer': 'the best book series'}\n",
    "```"
   ]
  },
  {
   "cell_type": "code",
   "execution_count": null,
   "metadata": {},
   "outputs": [],
   "source": [
    "#Install and import the pipeline of transformers\n",
    "from transformers import pipeline\n",
    "\n",
    "# Get thetask-specific pipeline\n",
    "my_model=pipeline(task=\"question-answering\")\n",
    "\n",
    "context = r\"\"\" Harry Potter is the best book series according to many people. Harry Potter was written by JK.Rowling .\n",
    "It is afantasy based novel that provides a thrilling experience to readers.\"\"\"\n",
    "\n",
    "# Pass the question and context to the model to obtain answer\n",
    "print(my_model(question=\"What is Harry Potter ?\", context=context))\n",
    "print(my_model(question=\"Who wrote Harry Potter ?\", context=context))"
   ]
  },
  {
   "cell_type": "markdown",
   "metadata": {},
   "source": [
    "#### 58. How to do text generation starting from a given piece of text?\n",
    "Difficulty Level : L4\n",
    "\n",
    "Q. Generate text based on the the starting provided."
   ]
  },
  {
   "cell_type": "code",
   "execution_count": null,
   "metadata": {},
   "outputs": [],
   "source": [
    "starting=\"It was a bright\""
   ]
  },
  {
   "cell_type": "markdown",
   "metadata": {},
   "source": [
    "Desired Output :\n",
    "```\n",
    "'It was a bright day in New Jersey\\'s capitol,\" the senator told a reporter after the rally. \"It\\'s a sunny day in New Hampshire, there\\'s a great deal of sunshine.'\n",
    "```"
   ]
  },
  {
   "cell_type": "code",
   "execution_count": null,
   "metadata": {},
   "outputs": [],
   "source": [
    "# Import pipeline from transformers package\n",
    "from transformers import pipeline\n",
    "\n",
    "# Get the task-specific pipeline\n",
    "my_model=pipeline(task=\"text-generation\")\n",
    "\n",
    "# Pass the starting sequence as input to generate text\n",
    "my_model(starting)"
   ]
  },
  {
   "cell_type": "markdown",
   "metadata": {},
   "source": [
    "#### 59. How to classify a text as positive or negative sentiment with transformers?\n",
    "Difficulty Level : L4\n",
    "\n",
    "Q. Find out whether a given text is postive or negative sentiment along with score for predictions"
   ]
  },
  {
   "cell_type": "code",
   "execution_count": null,
   "metadata": {},
   "outputs": [],
   "source": [
    "text1=\"It is a pleasant day, I am going for a walk\"\n",
    "text2=\"I have a terrible headache\""
   ]
  },
  {
   "cell_type": "markdown",
   "metadata": {},
   "source": [
    "Desired Output :\n",
    "```\n",
    "[{'label': 'POSITIVE', 'score': 0.9998570084571838}]\n",
    "[{'label': 'NEGATIVE', 'score': 0.9994378089904785}]\n",
    "```"
   ]
  },
  {
   "cell_type": "code",
   "execution_count": null,
   "metadata": {},
   "outputs": [],
   "source": [
    "# Import pipeline from transformers package\n",
    "from transformers import pipeline\n",
    "\n",
    "# Get the task specific pipeline\n",
    "my_model = pipeline(\"sentiment-analysis\")\n",
    "\n",
    "# Predicting the sentiment with score\n",
    "print(my_model(text1))\n",
    "print(my_model(text2))"
   ]
  }
 ],
 "metadata": {
  "kernelspec": {
   "display_name": "Python 3",
   "language": "python",
   "name": "python3"
  },
  "language_info": {
   "codemirror_mode": {
    "name": "ipython",
    "version": 3
   },
   "file_extension": ".py",
   "mimetype": "text/x-python",
   "name": "python",
   "nbconvert_exporter": "python",
   "pygments_lexer": "ipython3",
   "version": "3.10.11"
  },
  "orig_nbformat": 4
 },
 "nbformat": 4,
 "nbformat_minor": 2
}
